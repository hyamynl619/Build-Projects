{
  "nbformat": 4,
  "nbformat_minor": 0,
  "metadata": {
    "colab": {
      "name": "Build_Week_2",
      "provenance": [],
      "authorship_tag": "ABX9TyNV3JPPi+l8VISEtSALUIRM",
      "include_colab_link": true
    },
    "kernelspec": {
      "name": "python3",
      "display_name": "Python 3"
    }
  },
  "cells": [
    {
      "cell_type": "markdown",
      "metadata": {
        "id": "view-in-github",
        "colab_type": "text"
      },
      "source": [
        "<a href=\"https://colab.research.google.com/github/hyamynl619/Build-Projects/blob/master/Build_Week_2.ipynb\" target=\"_parent\"><img src=\"https://colab.research.google.com/assets/colab-badge.svg\" alt=\"Open In Colab\"/></a>"
      ]
    },
    {
      "cell_type": "code",
      "metadata": {
        "id": "8lObX54QBaXr",
        "colab_type": "code",
        "colab": {}
      },
      "source": [
        "%%capture\n",
        "import sys\n",
        "\n",
        "if 'google.colab' in sys.modules:\n",
        "    # Install packages in Colab\n",
        "    !pip install category_encoders==2.*\n",
        "    !pip install eli5\n",
        "    \n",
        "    !pip install pandas-profiling==2.*\n",
        "    !pip install pdpbox\n",
        "    !pip install shap|"
      ],
      "execution_count": 0,
      "outputs": []
    },
    {
      "cell_type": "code",
      "metadata": {
        "id": "KDWnfxoJv-WT",
        "colab_type": "code",
        "colab": {}
      },
      "source": [
        "import category_encoders as ce\n",
        "from sklearn.ensemble import RandomForestClassifier\n",
        "from sklearn.impute import SimpleImputer\n",
        "from sklearn.pipeline import Pipeline \n",
        "from sklearn.pipeline import make_pipeline\n",
        "from scipy.stats import randint, uniform\n",
        "from sklearn.model_selection import RandomizedSearchCV"
      ],
      "execution_count": 0,
      "outputs": []
    },
    {
      "cell_type": "code",
      "metadata": {
        "id": "Pg2RNkJs_n1P",
        "colab_type": "code",
        "colab": {}
      },
      "source": [
        "from xgboost import XGBClassifier\n",
        "import warnings\n",
        "import category_encoders as ce\n",
        "from sklearn.metrics import accuracy_score\n",
        "from sklearn.pipeline import make_pipeline"
      ],
      "execution_count": 0,
      "outputs": []
    },
    {
      "cell_type": "code",
      "metadata": {
        "id": "_KiEO6aw1_wF",
        "colab_type": "code",
        "outputId": "8216340d-2792-4e02-bffe-46a3870aa5d8",
        "colab": {
          "resources": {
            "http://localhost:8080/nbextensions/google.colab/files.js": {
              "data": "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",
              "ok": true,
              "headers": [
                [
                  "content-type",
                  "application/javascript"
                ]
              ],
              "status": 200,
              "status_text": ""
            }
          },
          "base_uri": "https://localhost:8080/",
          "height": 74
        }
      },
      "source": [
        "from google.colab import files\n",
        "import pandas as pd\n",
        "import numpy as np\n",
        "\n",
        "#the file = https://github.com/hyamynl619/Build-Projects/blob/master/google-play-store-apps.zip\n",
        "uploaded = files.upload()"
      ],
      "execution_count": 5,
      "outputs": [
        {
          "output_type": "display_data",
          "data": {
            "text/html": [
              "\n",
              "     <input type=\"file\" id=\"files-1ccb6e51-bd6c-454e-9d57-159c013f51c4\" name=\"files[]\" multiple disabled />\n",
              "     <output id=\"result-1ccb6e51-bd6c-454e-9d57-159c013f51c4\">\n",
              "      Upload widget is only available when the cell has been executed in the\n",
              "      current browser session. Please rerun this cell to enable.\n",
              "      </output>\n",
              "      <script src=\"/nbextensions/google.colab/files.js\"></script> "
            ],
            "text/plain": [
              "<IPython.core.display.HTML object>"
            ]
          },
          "metadata": {
            "tags": []
          }
        },
        {
          "output_type": "stream",
          "text": [
            "Saving google-play-store-apps.zip to google-play-store-apps (3).zip\n"
          ],
          "name": "stdout"
        }
      ]
    },
    {
      "cell_type": "code",
      "metadata": {
        "id": "3oTzPGpF2UIB",
        "colab_type": "code",
        "outputId": "1c187324-ad1f-40d3-c979-8b4cc23804ed",
        "colab": {
          "base_uri": "https://localhost:8080/",
          "height": 51
        }
      },
      "source": [
        "!unzip 'google-play-store-apps (3).zip'"
      ],
      "execution_count": 6,
      "outputs": [
        {
          "output_type": "stream",
          "text": [
            "Archive:  google-play-store-apps (3).zip\n",
            "replace googleplaystore.csv? [y]es, [n]o, [A]ll, [N]one, [r]ename: N\n"
          ],
          "name": "stdout"
        }
      ]
    },
    {
      "cell_type": "code",
      "metadata": {
        "id": "eOrBpR5k2_H9",
        "colab_type": "code",
        "outputId": "83344587-c006-4cd0-b14d-1b41c671c535",
        "colab": {
          "base_uri": "https://localhost:8080/",
          "height": 340
        }
      },
      "source": [
        "df = pd.read_csv('googleplaystore.csv')\n",
        "\n",
        "print(df.shape)\n",
        "df.head()"
      ],
      "execution_count": 7,
      "outputs": [
        {
          "output_type": "stream",
          "text": [
            "(10841, 13)\n"
          ],
          "name": "stdout"
        },
        {
          "output_type": "execute_result",
          "data": {
            "text/html": [
              "<div>\n",
              "<style scoped>\n",
              "    .dataframe tbody tr th:only-of-type {\n",
              "        vertical-align: middle;\n",
              "    }\n",
              "\n",
              "    .dataframe tbody tr th {\n",
              "        vertical-align: top;\n",
              "    }\n",
              "\n",
              "    .dataframe thead th {\n",
              "        text-align: right;\n",
              "    }\n",
              "</style>\n",
              "<table border=\"1\" class=\"dataframe\">\n",
              "  <thead>\n",
              "    <tr style=\"text-align: right;\">\n",
              "      <th></th>\n",
              "      <th>App</th>\n",
              "      <th>Category</th>\n",
              "      <th>Rating</th>\n",
              "      <th>Reviews</th>\n",
              "      <th>Size</th>\n",
              "      <th>Installs</th>\n",
              "      <th>Type</th>\n",
              "      <th>Price</th>\n",
              "      <th>Content Rating</th>\n",
              "      <th>Genres</th>\n",
              "      <th>Last Updated</th>\n",
              "      <th>Current Ver</th>\n",
              "      <th>Android Ver</th>\n",
              "    </tr>\n",
              "  </thead>\n",
              "  <tbody>\n",
              "    <tr>\n",
              "      <th>0</th>\n",
              "      <td>Photo Editor &amp; Candy Camera &amp; Grid &amp; ScrapBook</td>\n",
              "      <td>ART_AND_DESIGN</td>\n",
              "      <td>4.1</td>\n",
              "      <td>159</td>\n",
              "      <td>19M</td>\n",
              "      <td>10,000+</td>\n",
              "      <td>Free</td>\n",
              "      <td>0</td>\n",
              "      <td>Everyone</td>\n",
              "      <td>Art &amp; Design</td>\n",
              "      <td>January 7, 2018</td>\n",
              "      <td>1.0.0</td>\n",
              "      <td>4.0.3 and up</td>\n",
              "    </tr>\n",
              "    <tr>\n",
              "      <th>1</th>\n",
              "      <td>Coloring book moana</td>\n",
              "      <td>ART_AND_DESIGN</td>\n",
              "      <td>3.9</td>\n",
              "      <td>967</td>\n",
              "      <td>14M</td>\n",
              "      <td>500,000+</td>\n",
              "      <td>Free</td>\n",
              "      <td>0</td>\n",
              "      <td>Everyone</td>\n",
              "      <td>Art &amp; Design;Pretend Play</td>\n",
              "      <td>January 15, 2018</td>\n",
              "      <td>2.0.0</td>\n",
              "      <td>4.0.3 and up</td>\n",
              "    </tr>\n",
              "    <tr>\n",
              "      <th>2</th>\n",
              "      <td>U Launcher Lite – FREE Live Cool Themes, Hide ...</td>\n",
              "      <td>ART_AND_DESIGN</td>\n",
              "      <td>4.7</td>\n",
              "      <td>87510</td>\n",
              "      <td>8.7M</td>\n",
              "      <td>5,000,000+</td>\n",
              "      <td>Free</td>\n",
              "      <td>0</td>\n",
              "      <td>Everyone</td>\n",
              "      <td>Art &amp; Design</td>\n",
              "      <td>August 1, 2018</td>\n",
              "      <td>1.2.4</td>\n",
              "      <td>4.0.3 and up</td>\n",
              "    </tr>\n",
              "    <tr>\n",
              "      <th>3</th>\n",
              "      <td>Sketch - Draw &amp; Paint</td>\n",
              "      <td>ART_AND_DESIGN</td>\n",
              "      <td>4.5</td>\n",
              "      <td>215644</td>\n",
              "      <td>25M</td>\n",
              "      <td>50,000,000+</td>\n",
              "      <td>Free</td>\n",
              "      <td>0</td>\n",
              "      <td>Teen</td>\n",
              "      <td>Art &amp; Design</td>\n",
              "      <td>June 8, 2018</td>\n",
              "      <td>Varies with device</td>\n",
              "      <td>4.2 and up</td>\n",
              "    </tr>\n",
              "    <tr>\n",
              "      <th>4</th>\n",
              "      <td>Pixel Draw - Number Art Coloring Book</td>\n",
              "      <td>ART_AND_DESIGN</td>\n",
              "      <td>4.3</td>\n",
              "      <td>967</td>\n",
              "      <td>2.8M</td>\n",
              "      <td>100,000+</td>\n",
              "      <td>Free</td>\n",
              "      <td>0</td>\n",
              "      <td>Everyone</td>\n",
              "      <td>Art &amp; Design;Creativity</td>\n",
              "      <td>June 20, 2018</td>\n",
              "      <td>1.1</td>\n",
              "      <td>4.4 and up</td>\n",
              "    </tr>\n",
              "  </tbody>\n",
              "</table>\n",
              "</div>"
            ],
            "text/plain": [
              "                                                 App  ...   Android Ver\n",
              "0     Photo Editor & Candy Camera & Grid & ScrapBook  ...  4.0.3 and up\n",
              "1                                Coloring book moana  ...  4.0.3 and up\n",
              "2  U Launcher Lite – FREE Live Cool Themes, Hide ...  ...  4.0.3 and up\n",
              "3                              Sketch - Draw & Paint  ...    4.2 and up\n",
              "4              Pixel Draw - Number Art Coloring Book  ...    4.4 and up\n",
              "\n",
              "[5 rows x 13 columns]"
            ]
          },
          "metadata": {
            "tags": []
          },
          "execution_count": 7
        }
      ]
    },
    {
      "cell_type": "code",
      "metadata": {
        "id": "1ZvwoLSBDY1w",
        "colab_type": "code",
        "outputId": "8b0da31d-89ac-474e-d56f-3da8d3b0779d",
        "colab": {
          "base_uri": "https://localhost:8080/",
          "height": 255
        }
      },
      "source": [
        "#Checkiung for NaN values or missiung Values and there is none in this Dataset\n",
        "df.isnull().sum()"
      ],
      "execution_count": 8,
      "outputs": [
        {
          "output_type": "execute_result",
          "data": {
            "text/plain": [
              "App                  0\n",
              "Category             0\n",
              "Rating            1474\n",
              "Reviews              0\n",
              "Size                 0\n",
              "Installs             0\n",
              "Type                 1\n",
              "Price                0\n",
              "Content Rating       1\n",
              "Genres               0\n",
              "Last Updated         0\n",
              "Current Ver          8\n",
              "Android Ver          3\n",
              "dtype: int64"
            ]
          },
          "metadata": {
            "tags": []
          },
          "execution_count": 8
        }
      ]
    },
    {
      "cell_type": "code",
      "metadata": {
        "id": "2uB0Pob-7yR1",
        "colab_type": "code",
        "colab": {}
      },
      "source": [
        "df = df.drop(df[df['Rating'].isnull()].index, axis=0)\n"
      ],
      "execution_count": 0,
      "outputs": []
    },
    {
      "cell_type": "code",
      "metadata": {
        "id": "al9nFKFvhGIb",
        "colab_type": "code",
        "colab": {}
      },
      "source": [
        "df = df.drop(df[df['Content Rating'].isnull()].index, axis=0)"
      ],
      "execution_count": 0,
      "outputs": []
    },
    {
      "cell_type": "code",
      "metadata": {
        "id": "jITSlCBe89fj",
        "colab_type": "code",
        "colab": {
          "base_uri": "https://localhost:8080/",
          "height": 255
        },
        "outputId": "a70d04bd-d2b4-40d0-867b-e89a5326769a"
      },
      "source": [
        "df.isnull().sum()"
      ],
      "execution_count": 11,
      "outputs": [
        {
          "output_type": "execute_result",
          "data": {
            "text/plain": [
              "App               0\n",
              "Category          0\n",
              "Rating            0\n",
              "Reviews           0\n",
              "Size              0\n",
              "Installs          0\n",
              "Type              0\n",
              "Price             0\n",
              "Content Rating    0\n",
              "Genres            0\n",
              "Last Updated      0\n",
              "Current Ver       4\n",
              "Android Ver       2\n",
              "dtype: int64"
            ]
          },
          "metadata": {
            "tags": []
          },
          "execution_count": 11
        }
      ]
    },
    {
      "cell_type": "code",
      "metadata": {
        "id": "1BRusbUi-42V",
        "colab_type": "code",
        "colab": {}
      },
      "source": [
        "df = df.drop(columns=['Current Ver', 'Android Ver', 'Last Updated', 'App', 'Category'])"
      ],
      "execution_count": 0,
      "outputs": []
    },
    {
      "cell_type": "code",
      "metadata": {
        "id": "_fXZHny-_PRZ",
        "colab_type": "code",
        "colab": {
          "base_uri": "https://localhost:8080/",
          "height": 170
        },
        "outputId": "87cf31f3-01a0-4487-aa04-738b3a5d2e0e"
      },
      "source": [
        "df.isnull().sum()"
      ],
      "execution_count": 13,
      "outputs": [
        {
          "output_type": "execute_result",
          "data": {
            "text/plain": [
              "Rating            0\n",
              "Reviews           0\n",
              "Size              0\n",
              "Installs          0\n",
              "Type              0\n",
              "Price             0\n",
              "Content Rating    0\n",
              "Genres            0\n",
              "dtype: int64"
            ]
          },
          "metadata": {
            "tags": []
          },
          "execution_count": 13
        }
      ]
    },
    {
      "cell_type": "code",
      "metadata": {
        "id": "RnlW1xx-wbDJ",
        "colab_type": "code",
        "outputId": "d2e9c1c4-5384-472b-c6d5-4a3b4724767d",
        "colab": {
          "base_uri": "https://localhost:8080/",
          "height": 170
        }
      },
      "source": [
        "#Looking at the types to see if I need to change any and make them consistent\n",
        "\n",
        "df.dtypes"
      ],
      "execution_count": 14,
      "outputs": [
        {
          "output_type": "execute_result",
          "data": {
            "text/plain": [
              "Rating            float64\n",
              "Reviews            object\n",
              "Size               object\n",
              "Installs           object\n",
              "Type               object\n",
              "Price              object\n",
              "Content Rating     object\n",
              "Genres             object\n",
              "dtype: object"
            ]
          },
          "metadata": {
            "tags": []
          },
          "execution_count": 14
        }
      ]
    },
    {
      "cell_type": "code",
      "metadata": {
        "id": "f3jVNbYPYi3o",
        "colab_type": "code",
        "colab": {
          "base_uri": "https://localhost:8080/",
          "height": 238
        },
        "outputId": "a53dd53e-801a-4368-c2b3-04be1450c0ea"
      },
      "source": [
        "#Looking at the dataset information to make sure we didn't miss any NaN/Null values\n",
        "\n",
        "df.info()"
      ],
      "execution_count": 15,
      "outputs": [
        {
          "output_type": "stream",
          "text": [
            "<class 'pandas.core.frame.DataFrame'>\n",
            "Int64Index: 9366 entries, 0 to 10840\n",
            "Data columns (total 8 columns):\n",
            "Rating            9366 non-null float64\n",
            "Reviews           9366 non-null object\n",
            "Size              9366 non-null object\n",
            "Installs          9366 non-null object\n",
            "Type              9366 non-null object\n",
            "Price             9366 non-null object\n",
            "Content Rating    9366 non-null object\n",
            "Genres            9366 non-null object\n",
            "dtypes: float64(1), object(7)\n",
            "memory usage: 658.5+ KB\n"
          ],
          "name": "stdout"
        }
      ]
    },
    {
      "cell_type": "code",
      "metadata": {
        "id": "hayGEhEUC0Yy",
        "colab_type": "code",
        "colab": {}
      },
      "source": [
        "#We're going to get rid of any characters in the dataset \n",
        "df[\"Installs\"] = df[\"Installs\"].str.replace(\"+\",\"\") \n",
        "df[\"Installs\"] = df[\"Installs\"].str.replace(\",\",\"\")\n",
        "df['Price'] = df['Price'].str.replace(\"$\",\"\")\n",
        "df['Size'] = df['Size'].astype(str)\n",
        "df['Size'] = df['Size'].replace(\"Varies with device\", \"0\")\n",
        "df['Size'] = df['Size'].str.replace(\"M\", \"\")\n"
      ],
      "execution_count": 0,
      "outputs": []
    },
    {
      "cell_type": "code",
      "metadata": {
        "id": "EhLAuibXK3lj",
        "colab_type": "code",
        "colab": {
          "base_uri": "https://localhost:8080/",
          "height": 359
        },
        "outputId": "42886035-d54b-43ed-82fa-8c697513c0b6"
      },
      "source": [
        "df.head(10)"
      ],
      "execution_count": 17,
      "outputs": [
        {
          "output_type": "execute_result",
          "data": {
            "text/html": [
              "<div>\n",
              "<style scoped>\n",
              "    .dataframe tbody tr th:only-of-type {\n",
              "        vertical-align: middle;\n",
              "    }\n",
              "\n",
              "    .dataframe tbody tr th {\n",
              "        vertical-align: top;\n",
              "    }\n",
              "\n",
              "    .dataframe thead th {\n",
              "        text-align: right;\n",
              "    }\n",
              "</style>\n",
              "<table border=\"1\" class=\"dataframe\">\n",
              "  <thead>\n",
              "    <tr style=\"text-align: right;\">\n",
              "      <th></th>\n",
              "      <th>Rating</th>\n",
              "      <th>Reviews</th>\n",
              "      <th>Size</th>\n",
              "      <th>Installs</th>\n",
              "      <th>Type</th>\n",
              "      <th>Price</th>\n",
              "      <th>Content Rating</th>\n",
              "      <th>Genres</th>\n",
              "    </tr>\n",
              "  </thead>\n",
              "  <tbody>\n",
              "    <tr>\n",
              "      <th>0</th>\n",
              "      <td>4.1</td>\n",
              "      <td>159</td>\n",
              "      <td>19</td>\n",
              "      <td>10000</td>\n",
              "      <td>Free</td>\n",
              "      <td>0</td>\n",
              "      <td>Everyone</td>\n",
              "      <td>Art &amp; Design</td>\n",
              "    </tr>\n",
              "    <tr>\n",
              "      <th>1</th>\n",
              "      <td>3.9</td>\n",
              "      <td>967</td>\n",
              "      <td>14</td>\n",
              "      <td>500000</td>\n",
              "      <td>Free</td>\n",
              "      <td>0</td>\n",
              "      <td>Everyone</td>\n",
              "      <td>Art &amp; Design;Pretend Play</td>\n",
              "    </tr>\n",
              "    <tr>\n",
              "      <th>2</th>\n",
              "      <td>4.7</td>\n",
              "      <td>87510</td>\n",
              "      <td>8.7</td>\n",
              "      <td>5000000</td>\n",
              "      <td>Free</td>\n",
              "      <td>0</td>\n",
              "      <td>Everyone</td>\n",
              "      <td>Art &amp; Design</td>\n",
              "    </tr>\n",
              "    <tr>\n",
              "      <th>3</th>\n",
              "      <td>4.5</td>\n",
              "      <td>215644</td>\n",
              "      <td>25</td>\n",
              "      <td>50000000</td>\n",
              "      <td>Free</td>\n",
              "      <td>0</td>\n",
              "      <td>Teen</td>\n",
              "      <td>Art &amp; Design</td>\n",
              "    </tr>\n",
              "    <tr>\n",
              "      <th>4</th>\n",
              "      <td>4.3</td>\n",
              "      <td>967</td>\n",
              "      <td>2.8</td>\n",
              "      <td>100000</td>\n",
              "      <td>Free</td>\n",
              "      <td>0</td>\n",
              "      <td>Everyone</td>\n",
              "      <td>Art &amp; Design;Creativity</td>\n",
              "    </tr>\n",
              "    <tr>\n",
              "      <th>5</th>\n",
              "      <td>4.4</td>\n",
              "      <td>167</td>\n",
              "      <td>5.6</td>\n",
              "      <td>50000</td>\n",
              "      <td>Free</td>\n",
              "      <td>0</td>\n",
              "      <td>Everyone</td>\n",
              "      <td>Art &amp; Design</td>\n",
              "    </tr>\n",
              "    <tr>\n",
              "      <th>6</th>\n",
              "      <td>3.8</td>\n",
              "      <td>178</td>\n",
              "      <td>19</td>\n",
              "      <td>50000</td>\n",
              "      <td>Free</td>\n",
              "      <td>0</td>\n",
              "      <td>Everyone</td>\n",
              "      <td>Art &amp; Design</td>\n",
              "    </tr>\n",
              "    <tr>\n",
              "      <th>7</th>\n",
              "      <td>4.1</td>\n",
              "      <td>36815</td>\n",
              "      <td>29</td>\n",
              "      <td>1000000</td>\n",
              "      <td>Free</td>\n",
              "      <td>0</td>\n",
              "      <td>Everyone</td>\n",
              "      <td>Art &amp; Design</td>\n",
              "    </tr>\n",
              "    <tr>\n",
              "      <th>8</th>\n",
              "      <td>4.4</td>\n",
              "      <td>13791</td>\n",
              "      <td>33</td>\n",
              "      <td>1000000</td>\n",
              "      <td>Free</td>\n",
              "      <td>0</td>\n",
              "      <td>Everyone</td>\n",
              "      <td>Art &amp; Design</td>\n",
              "    </tr>\n",
              "    <tr>\n",
              "      <th>9</th>\n",
              "      <td>4.7</td>\n",
              "      <td>121</td>\n",
              "      <td>3.1</td>\n",
              "      <td>10000</td>\n",
              "      <td>Free</td>\n",
              "      <td>0</td>\n",
              "      <td>Everyone</td>\n",
              "      <td>Art &amp; Design;Creativity</td>\n",
              "    </tr>\n",
              "  </tbody>\n",
              "</table>\n",
              "</div>"
            ],
            "text/plain": [
              "   Rating Reviews Size  ... Price Content Rating                     Genres\n",
              "0     4.1     159   19  ...     0       Everyone               Art & Design\n",
              "1     3.9     967   14  ...     0       Everyone  Art & Design;Pretend Play\n",
              "2     4.7   87510  8.7  ...     0       Everyone               Art & Design\n",
              "3     4.5  215644   25  ...     0           Teen               Art & Design\n",
              "4     4.3     967  2.8  ...     0       Everyone    Art & Design;Creativity\n",
              "5     4.4     167  5.6  ...     0       Everyone               Art & Design\n",
              "6     3.8     178   19  ...     0       Everyone               Art & Design\n",
              "7     4.1   36815   29  ...     0       Everyone               Art & Design\n",
              "8     4.4   13791   33  ...     0       Everyone               Art & Design\n",
              "9     4.7     121  3.1  ...     0       Everyone    Art & Design;Creativity\n",
              "\n",
              "[10 rows x 8 columns]"
            ]
          },
          "metadata": {
            "tags": []
          },
          "execution_count": 17
        }
      ]
    },
    {
      "cell_type": "code",
      "metadata": {
        "id": "xSIPKydsMUQb",
        "colab_type": "code",
        "colab": {
          "base_uri": "https://localhost:8080/",
          "height": 170
        },
        "outputId": "ec673ac4-83f5-4cb5-b70b-bbf6ffadbf57"
      },
      "source": [
        "df.dtypes"
      ],
      "execution_count": 18,
      "outputs": [
        {
          "output_type": "execute_result",
          "data": {
            "text/plain": [
              "Rating            float64\n",
              "Reviews            object\n",
              "Size               object\n",
              "Installs           object\n",
              "Type               object\n",
              "Price              object\n",
              "Content Rating     object\n",
              "Genres             object\n",
              "dtype: object"
            ]
          },
          "metadata": {
            "tags": []
          },
          "execution_count": 18
        }
      ]
    },
    {
      "cell_type": "code",
      "metadata": {
        "id": "2LL63zYqcGnq",
        "colab_type": "code",
        "colab": {
          "base_uri": "https://localhost:8080/",
          "height": 564
        },
        "outputId": "b2d3e1d9-0aec-47a7-e2ee-0f93f14ca587"
      },
      "source": [
        "import matplotlib.pyplot as plt\n",
        "import seaborn as sns\n",
        "#Looking at the top rated genre and how many downloads there were for it\n",
        "\n",
        "plt.figure(figsize=(16, 9.5))\n",
        "genres = df['Genres'].value_counts()[:35]\n",
        "ax = sns.barplot(x=genres.values, y=genres.index, palette=\"cubehelix\")\n",
        "\n"
      ],
      "execution_count": 19,
      "outputs": [
        {
          "output_type": "display_data",
          "data": {
            "image/png": "[encoded data removed]",
            "text/plain": [
              "<Figure size 1152x684 with 1 Axes>"
            ]
          },
          "metadata": {
            "tags": []
          }
        }
      ]
    },
    {
      "cell_type": "code",
      "metadata": {
        "id": "uBytQdLkoene",
        "colab_type": "code",
        "colab": {
          "base_uri": "https://localhost:8080/",
          "height": 782
        },
        "outputId": "831acb0d-b641-4136-c5e5-9402a4cebf10"
      },
      "source": [
        "df['Genres'].unique()"
      ],
      "execution_count": 20,
      "outputs": [
        {
          "output_type": "execute_result",
          "data": {
            "text/plain": [
              "array(['Art & Design', 'Art & Design;Pretend Play',\n",
              "       'Art & Design;Creativity', 'Auto & Vehicles', 'Beauty',\n",
              "       'Books & Reference', 'Business', 'Comics', 'Comics;Creativity',\n",
              "       'Communication', 'Dating', 'Education;Education', 'Education',\n",
              "       'Education;Creativity', 'Education;Music & Video',\n",
              "       'Education;Action & Adventure', 'Education;Pretend Play',\n",
              "       'Education;Brain Games', 'Entertainment',\n",
              "       'Entertainment;Music & Video', 'Entertainment;Brain Games',\n",
              "       'Entertainment;Creativity', 'Events', 'Finance', 'Food & Drink',\n",
              "       'Health & Fitness', 'House & Home', 'Libraries & Demo',\n",
              "       'Lifestyle', 'Lifestyle;Pretend Play',\n",
              "       'Adventure;Action & Adventure', 'Arcade', 'Casual', 'Card',\n",
              "       'Casual;Pretend Play', 'Action', 'Strategy', 'Puzzle', 'Sports',\n",
              "       'Music', 'Word', 'Racing', 'Casual;Creativity',\n",
              "       'Casual;Action & Adventure', 'Simulation', 'Adventure', 'Board',\n",
              "       'Trivia', 'Role Playing', 'Simulation;Education',\n",
              "       'Action;Action & Adventure', 'Casual;Brain Games',\n",
              "       'Simulation;Action & Adventure', 'Educational;Creativity',\n",
              "       'Puzzle;Brain Games', 'Educational;Education', 'Card;Brain Games',\n",
              "       'Educational;Brain Games', 'Educational;Pretend Play',\n",
              "       'Entertainment;Education', 'Casual;Education',\n",
              "       'Music;Music & Video', 'Racing;Action & Adventure',\n",
              "       'Arcade;Pretend Play', 'Role Playing;Action & Adventure',\n",
              "       'Simulation;Pretend Play', 'Puzzle;Creativity',\n",
              "       'Sports;Action & Adventure', 'Educational;Action & Adventure',\n",
              "       'Arcade;Action & Adventure', 'Entertainment;Action & Adventure',\n",
              "       'Puzzle;Action & Adventure', 'Strategy;Action & Adventure',\n",
              "       'Music & Audio;Music & Video', 'Health & Fitness;Education',\n",
              "       'Adventure;Education', 'Board;Brain Games',\n",
              "       'Board;Action & Adventure', 'Board;Pretend Play',\n",
              "       'Casual;Music & Video', 'Role Playing;Pretend Play',\n",
              "       'Entertainment;Pretend Play', 'Video Players & Editors;Creativity',\n",
              "       'Card;Action & Adventure', 'Medical', 'Social', 'Shopping',\n",
              "       'Photography', 'Travel & Local',\n",
              "       'Travel & Local;Action & Adventure', 'Tools', 'Tools;Education',\n",
              "       'Personalization', 'Productivity', 'Parenting',\n",
              "       'Parenting;Music & Video', 'Parenting;Brain Games',\n",
              "       'Parenting;Education', 'Weather', 'Video Players & Editors',\n",
              "       'Video Players & Editors;Music & Video', 'News & Magazines',\n",
              "       'Maps & Navigation', 'Health & Fitness;Action & Adventure',\n",
              "       'Educational', 'Casino', 'Adventure;Brain Games',\n",
              "       'Lifestyle;Education', 'Books & Reference;Education',\n",
              "       'Puzzle;Education', 'Role Playing;Brain Games',\n",
              "       'Strategy;Education', 'Racing;Pretend Play',\n",
              "       'Communication;Creativity', 'Strategy;Creativity'], dtype=object)"
            ]
          },
          "metadata": {
            "tags": []
          },
          "execution_count": 20
        }
      ]
    },
    {
      "cell_type": "code",
      "metadata": {
        "id": "gVwG0AbPnQP_",
        "colab_type": "code",
        "colab": {
          "base_uri": "https://localhost:8080/",
          "height": 289
        },
        "outputId": "f4a87bad-e8d8-4e1d-c46c-ccd7954cad55"
      },
      "source": [
        "df['Genres'].value_counts().nlargest(15)"
      ],
      "execution_count": 21,
      "outputs": [
        {
          "output_type": "execute_result",
          "data": {
            "text/plain": [
              "Tools               733\n",
              "Entertainment       533\n",
              "Education           468\n",
              "Action              358\n",
              "Productivity        351\n",
              "Medical             350\n",
              "Sports              333\n",
              "Communication       328\n",
              "Finance             323\n",
              "Photography         317\n",
              "Personalization     314\n",
              "Lifestyle           313\n",
              "Business            303\n",
              "Health & Fitness    297\n",
              "Social              259\n",
              "Name: Genres, dtype: int64"
            ]
          },
          "metadata": {
            "tags": []
          },
          "execution_count": 21
        }
      ]
    },
    {
      "cell_type": "code",
      "metadata": {
        "id": "9R2woiYmpZvs",
        "colab_type": "code",
        "colab": {}
      },
      "source": [
        "Art = df['Genres'].str.contains('Art')\n",
        "Comics = df['Genres'].str.contains('Comics')\n",
        "Education = df['Genres'].str.contains('Education')\n",
        "Entertainment = df['Genres'].str.contains('Entertainment')\n",
        "Lifestyle = df['Genres'].str.contains('Lifestyle')\n",
        "Casual = df['Genres'].str.contains('Casual')\n",
        "Action = df['Genres'].str.contains('Action')\n",
        "Simulation = df['Genres'].str.contains('Simulation')\n",
        "Puzzle = df['Genres'].str.contains('Puzzle')\n",
        "Music = df['Genres'].str.contains('Music')\n",
        "Health = df['Genres'].str.contains('Health')\n",
        "Games= df['Genres'].str.contains('Games')\n",
        "Travel = df['Genres'].str.contains('Travel')\n",
        "Parenting = df['Genres'].str.contains('Parenting')\n",
        "Arcade = df['Genres'].str.contains('Arcade')\n",
        "Board = df['Genres'].str.contains('Board')\n",
        "Role_Playing = df['Genres'].str.contains('Role Playing')\n",
        "\n",
        "df.loc[Art, 'Genres'] = 'Art'\n",
        "df.loc[Comics, 'Genres'] = 'Comics'\n",
        "df.loc[Education, 'Genres'] = 'Education'\n",
        "df.loc[Entertainment, 'Genres'] = 'Entertainment'\n",
        "df.loc[Lifestyle, 'Genres'] = 'Lifestyle'\n",
        "df.loc[Casual, 'Genres'] = 'Casual'\n",
        "df.loc[Action, 'Genres'] = 'Action'\n",
        "df.loc[Simulation, 'Genres'] = 'Simulation'\n",
        "df.loc[Puzzle, 'Genres'] = 'Puzzle'\n",
        "df.loc[Music, 'Genres'] = 'Music'\n",
        "df.loc[Health, 'Genres'] = 'Health'\n",
        "df.loc[Games, 'Genres'] = 'Games'\n",
        "df.loc[Travel, 'Genres'] = 'Travel'\n",
        "df.loc[Parenting, 'Genres'] = 'Parenting'\n",
        "df.loc[Arcade, 'Genres'] = 'Arcade'\n",
        "df.loc[Board, 'Genres'] = 'Board'\n",
        "df.loc[Role_Playing, 'Genres'] = 'Role Playing'"
      ],
      "execution_count": 0,
      "outputs": []
    },
    {
      "cell_type": "code",
      "metadata": {
        "id": "hNAFdSZloNqN",
        "colab_type": "code",
        "colab": {
          "base_uri": "https://localhost:8080/",
          "height": 709
        },
        "outputId": "18a67260-278b-4664-b46d-50ca65bb9e83"
      },
      "source": [
        "#Lets see what ratings do each genre have\n",
        "#You can see that the ratings for each genre is pretty close in this dataset\n",
        "\n",
        "sns.set(rc={'figure.figsize':(20,10)}, font_scale=.8, style='whitegrid')\n",
        "ax = sns.barplot(x=\"Genres\",y=\"Rating\",data=df)\n",
        "labels = ax.set_xticklabels(ax.get_xticklabels(), rotation=45,ha='right')"
      ],
      "execution_count": 23,
      "outputs": [
        {
          "output_type": "display_data",
          "data": {
            "image/png": "[encoded data removed]",
            "text/plain": [
              "<Figure size 1440x720 with 1 Axes>"
            ]
          },
          "metadata": {
            "tags": []
          }
        }
      ]
    },
    {
      "cell_type": "code",
      "metadata": {
        "id": "wSGFBt6ylaNn",
        "colab_type": "code",
        "colab": {
          "base_uri": "https://localhost:8080/",
          "height": 918
        },
        "outputId": "1db42129-4620-408c-d2cf-55afc27f41ec"
      },
      "source": [
        "#Only show Genres with ratings of 4.0>\n",
        "\n",
        "high_rate = df.loc[df[\"Rating\"] >= 4.0]\n",
        "\n",
        "high_genre = high_rate.groupby('Genres')['Rating'].nunique()\n",
        "high_genre"
      ],
      "execution_count": 24,
      "outputs": [
        {
          "output_type": "execute_result",
          "data": {
            "text/plain": [
              "Genres\n",
              "Action                                 9\n",
              "Adventure                              8\n",
              "Arcade                                10\n",
              "Art                                   10\n",
              "Auto & Vehicles                        8\n",
              "Beauty                                10\n",
              "Board                                  9\n",
              "Books & Reference                     11\n",
              "Business                              11\n",
              "Card                                   9\n",
              "Casino                                 8\n",
              "Casual                                11\n",
              "Comics                                10\n",
              "Communication                         10\n",
              "Communication;Creativity               1\n",
              "Dating                                11\n",
              "Education                             11\n",
              "Entertainment                         11\n",
              "Events                                11\n",
              "Finance                               11\n",
              "Food & Drink                          10\n",
              "Games                                  9\n",
              "Health                                11\n",
              "House & Home                           9\n",
              "Libraries & Demo                       9\n",
              "Lifestyle                             11\n",
              "Maps & Navigation                     10\n",
              "Medical                               11\n",
              "Music                                  8\n",
              "News & Magazines                      11\n",
              "Parenting                             11\n",
              "Personalization                       11\n",
              "Photography                           11\n",
              "Productivity                          11\n",
              "Puzzle                                11\n",
              "Racing                                 9\n",
              "Racing;Pretend Play                    1\n",
              "Role Playing                           9\n",
              "Shopping                              10\n",
              "Simulation                            11\n",
              "Social                                11\n",
              "Sports                                11\n",
              "Strategy                               9\n",
              "Strategy;Creativity                    1\n",
              "Tools                                 11\n",
              "Travel                                10\n",
              "Trivia                                 9\n",
              "Video Players & Editors               10\n",
              "Video Players & Editors;Creativity     1\n",
              "Weather                                9\n",
              "Word                                   9\n",
              "Name: Rating, dtype: int64"
            ]
          },
          "metadata": {
            "tags": []
          },
          "execution_count": 24
        }
      ]
    },
    {
      "cell_type": "code",
      "metadata": {
        "id": "nB42s_Fmt5wj",
        "colab_type": "code",
        "colab": {
          "base_uri": "https://localhost:8080/",
          "height": 34
        },
        "outputId": "17c0ac59-396e-4eb5-ce49-1019f7930c3e"
      },
      "source": [
        "#I'm going to shuffle my dataset then split it \n",
        "\n",
        "from sklearn.model_selection import train_test_split\n",
        "test = df.sample(frac=1,random_state=0).reset_index(drop=True)\n",
        "train = df.sample(frac=1,random_state=0).reset_index(drop=True)\n",
        "\n",
        "train, val = train_test_split(train, random_state=None)\n",
        "\n",
        "train.shape, test.shape, val.shape"
      ],
      "execution_count": 25,
      "outputs": [
        {
          "output_type": "execute_result",
          "data": {
            "text/plain": [
              "((7024, 8), (9366, 8), (2342, 8))"
            ]
          },
          "metadata": {
            "tags": []
          },
          "execution_count": 25
        }
      ]
    },
    {
      "cell_type": "code",
      "metadata": {
        "id": "LlOx1fgYm3xx",
        "colab_type": "code",
        "colab": {}
      },
      "source": [
        "#We need to predict what is the most popular genre based off the number of Installations each category has\n",
        "#Selecting features and y vectors\n",
        "\n",
        "target = 'Installs'\n",
        "features = df.columns.drop(target)\n",
        "\n",
        "X_train = train[features]\n",
        "y_train = train[target]\n",
        "X_test = test[features]\n",
        "y_test = test[target]\n",
        "X_val = val[features]\n",
        "y_val= val[target]"
      ],
      "execution_count": 0,
      "outputs": []
    },
    {
      "cell_type": "code",
      "metadata": {
        "id": "R5bQTMNRaJdh",
        "colab_type": "code",
        "outputId": "ccd92772-4a0b-4211-d8c3-67979f28a450",
        "colab": {
          "base_uri": "https://localhost:8080/",
          "height": 357
        }
      },
      "source": [
        "#Looking at the different number of Installs \n",
        "\n",
        "y_train.value_counts(normalize=True)"
      ],
      "execution_count": 27,
      "outputs": [
        {
          "output_type": "execute_result",
          "data": {
            "text/plain": [
              "1000000       0.169562\n",
              "10000000      0.129413\n",
              "100000        0.124288\n",
              "10000         0.112044\n",
              "5000000       0.080581\n",
              "1000          0.075740\n",
              "500000        0.057375\n",
              "50000         0.051680\n",
              "5000          0.045131\n",
              "100000000     0.043280\n",
              "100           0.031748\n",
              "50000000      0.029897\n",
              "500           0.021925\n",
              "1000000000    0.007118\n",
              "500000000     0.006834\n",
              "10            0.006407\n",
              "50            0.005695\n",
              "5             0.001139\n",
              "1             0.000142\n",
              "Name: Installs, dtype: float64"
            ]
          },
          "metadata": {
            "tags": []
          },
          "execution_count": 27
        }
      ]
    },
    {
      "cell_type": "code",
      "metadata": {
        "id": "BK1kM-9Z5n6O",
        "colab_type": "code",
        "colab": {}
      },
      "source": [
        "#Changing the types of the columns\n",
        "df[\"Installs\"] = df[\"Installs\"].astype(\"int64\")\n",
        "df[\"Price\"] = df[\"Price\"].astype(\"float64\")\n",
        "df[\"Reviews\"] = df[\"Reviews\"].astype(\"int64\")\n",
        "\n"
      ],
      "execution_count": 0,
      "outputs": []
    },
    {
      "cell_type": "code",
      "metadata": {
        "id": "pwkC43O3Ngcy",
        "colab_type": "code",
        "colab": {}
      },
      "source": [
        "#Lets Encode the categorical features\n",
        "\n",
        "encoder = ce.OneHotEncoder(use_cat_names=True)\n",
        "X_train_encoded = encoder.fit_transform(X_train)\n",
        "X_val_encoded = encoder.transform(X_val)\n",
        "X_test_encoded = encoder.transform(X_test)"
      ],
      "execution_count": 0,
      "outputs": []
    },
    {
      "cell_type": "code",
      "metadata": {
        "id": "uJITUqGQ0st4",
        "colab_type": "code",
        "outputId": "3c816130-598c-4db2-a612-6bcd7c60c128",
        "colab": {
          "base_uri": "https://localhost:8080/",
          "height": 139
        }
      },
      "source": [
        "#Doing a Logistic Regression fit as a baseline\n",
        "\n",
        "from sklearn.linear_model import LogisticRegression\n",
        "model = LogisticRegression(C=1.0, class_weight=None,\n",
        "                           intercept_scaling=1, max_iter=100,\n",
        "                           multi_class='ovr', n_jobs=-1,\n",
        "                           penalty='l2', random_state=42, solver='liblinear',\n",
        "                           tol=0.0001, verbose=0, warm_start=False, fit_intercept=True)\n",
        "\n",
        "model.fit(X_train_encoded, y_train)"
      ],
      "execution_count": 30,
      "outputs": [
        {
          "output_type": "stream",
          "text": [
            "/usr/local/lib/python3.6/dist-packages/sklearn/linear_model/_logistic.py:1539: UserWarning: 'n_jobs' > 1 does not have any effect when 'solver' is set to 'liblinear'. Got 'n_jobs' = 2.\n",
            "  \" = {}.\".format(effective_n_jobs(self.n_jobs)))\n"
          ],
          "name": "stderr"
        },
        {
          "output_type": "execute_result",
          "data": {
            "text/plain": [
              "LogisticRegression(C=1.0, class_weight=None, dual=False, fit_intercept=True,\n",
              "                   intercept_scaling=1, l1_ratio=None, max_iter=100,\n",
              "                   multi_class='ovr', n_jobs=-1, penalty='l2', random_state=42,\n",
              "                   solver='liblinear', tol=0.0001, verbose=0, warm_start=False)"
            ]
          },
          "metadata": {
            "tags": []
          },
          "execution_count": 30
        }
      ]
    },
    {
      "cell_type": "code",
      "metadata": {
        "id": "v_TifutaRPhN",
        "colab_type": "code",
        "colab": {
          "base_uri": "https://localhost:8080/",
          "height": 51
        },
        "outputId": "3500b5d9-f4c7-498d-992b-4d46f07f0e96"
      },
      "source": [
        "y_pred = model.predict(X_test_encoded)\n",
        "y_pred"
      ],
      "execution_count": 31,
      "outputs": [
        {
          "output_type": "execute_result",
          "data": {
            "text/plain": [
              "array(['100000000', '100000', '100000', ..., '10000000', '1000000',\n",
              "       '10000000'], dtype=object)"
            ]
          },
          "metadata": {
            "tags": []
          },
          "execution_count": 31
        }
      ]
    },
    {
      "cell_type": "code",
      "metadata": {
        "id": "xilZqgVhYb_k",
        "colab_type": "code",
        "colab": {
          "base_uri": "https://localhost:8080/",
          "height": 34
        },
        "outputId": "8253097a-ddd5-4314-e28b-131d9793733f"
      },
      "source": [
        "model.score(X_train_encoded, y_train)"
      ],
      "execution_count": 32,
      "outputs": [
        {
          "output_type": "execute_result",
          "data": {
            "text/plain": [
              "0.70999430523918"
            ]
          },
          "metadata": {
            "tags": []
          },
          "execution_count": 32
        }
      ]
    },
    {
      "cell_type": "code",
      "metadata": {
        "id": "9iTeEvS3LPiC",
        "colab_type": "code",
        "colab": {
          "base_uri": "https://localhost:8080/",
          "height": 34
        },
        "outputId": "0fea8481-91f9-443d-ccaf-d87424fb3672"
      },
      "source": [
        "model.score(X_val_encoded, y_val)"
      ],
      "execution_count": 33,
      "outputs": [
        {
          "output_type": "execute_result",
          "data": {
            "text/plain": [
              "0.3548249359521776"
            ]
          },
          "metadata": {
            "tags": []
          },
          "execution_count": 33
        }
      ]
    },
    {
      "cell_type": "code",
      "metadata": {
        "id": "HEBaYmA56HgP",
        "colab_type": "code",
        "colab": {
          "base_uri": "https://localhost:8080/",
          "height": 105
        },
        "outputId": "2dfef6aa-0ba6-4e6e-8d97-f786bbadd609"
      },
      "source": [
        "from sklearn.tree import DecisionTreeClassifier\n",
        "from sklearn.pipeline import make_pipeline\n",
        "import category_encoders as ce\n",
        "from sklearn.impute import SimpleImputer\n",
        "\n",
        "my_pipeline = make_pipeline(ce.OneHotEncoder(use_cat_names=True), \n",
        "    SimpleImputer(strategy='most_frequent'), \n",
        "    DecisionTreeClassifier(ccp_alpha=0.0, class_weight=None, criterion='gini',\n",
        "                       max_depth=None, max_features=None, max_leaf_nodes=None,\n",
        "                       min_impurity_decrease=0.0, min_impurity_split=None,\n",
        "                       min_samples_leaf=1, min_samples_split=2,\n",
        "                       min_weight_fraction_leaf=0.0, presort=False,\n",
        "                       random_state=42, splitter='best')\n",
        ")\n",
        "\n",
        "my_pipeline.fit(X_train_encoded, y_train)\n",
        "\n",
        "\n",
        "print('Train Accuracy', my_pipeline.score(X_train_encoded, y_train))\n",
        "print('Validation Accuracy', my_pipeline.score(X_val_encoded, y_val))\n",
        "\n",
        "y_pred = my_pipeline.predict(X_test_encoded)"
      ],
      "execution_count": 34,
      "outputs": [
        {
          "output_type": "stream",
          "text": [
            "/usr/local/lib/python3.6/dist-packages/sklearn/tree/_classes.py:319: FutureWarning: The parameter 'presort' is deprecated and has no effect. It will be removed in v0.24. You can suppress this warning by not passing any value to the 'presort' parameter.\n",
            "  FutureWarning)\n"
          ],
          "name": "stderr"
        },
        {
          "output_type": "stream",
          "text": [
            "Train Accuracy 0.9998576309794989\n",
            "Validation Accuracy 0.33219470538001705\n"
          ],
          "name": "stdout"
        }
      ]
    },
    {
      "cell_type": "code",
      "metadata": {
        "id": "mUzgC5Eq4tz_",
        "colab_type": "code",
        "colab": {
          "base_uri": "https://localhost:8080/",
          "height": 814
        },
        "outputId": "f00fe2ae-5c83-4ea2-d672-4fbdca876e06"
      },
      "source": [
        "%matplotlib inline\n",
        "%matplotlib inline\n",
        "import itertools\n",
        "from math import floor\n",
        "import matplotlib.pyplot as plt\n",
        "import graphviz\n",
        "from sklearn.tree import export_graphviz\n",
        "\n",
        "\n",
        "model = my_pipeline.named_steps['decisiontreeclassifier']\n",
        "\n",
        "encoder = my_pipeline.named_steps['onehotencoder']\n",
        "encoded_columns = encoder.transform(X_val_encoded).columns\n",
        "dot_data = export_graphviz(model,\n",
        "                         out_file=None,\n",
        "                         max_depth=3,\n",
        "                         feature_names=encoded_columns,\n",
        "                         class_names=model.classes_,\n",
        "                         impurity=False,\n",
        "                         filled=True,\n",
        "                         proportion=True,\n",
        "                         rounded=True)\n",
        "\n",
        "display(graphviz.Source(dot_data))"
      ],
      "execution_count": 35,
      "outputs": [
        {
          "output_type": "display_data",
          "data": {
            "text/plain": [
              "<graphviz.files.Source at 0x7fd33188a278>"
            ],
            "image/svg+xml": "<?xml version=\"1.0\" encoding=\"UTF-8\" standalone=\"no\"?>\n<!DOCTYPE svg PUBLIC \"-//W3C//DTD SVG 1.1//EN\"\n \"http://www.w3.org/Graphics/SVG/1.1/DTD/svg11.dtd\">\n<!-- Generated by graphviz version 2.40.1 (20161225.0304)\n -->\n<!-- Title: Tree Pages: 1 -->\n<svg width=\"3207pt\" height=\"580pt\"\n viewBox=\"0.00 0.00 3207.00 580.00\" xmlns=\"http://www.w3.org/2000/svg\" xmlns:xlink=\"http://www.w3.org/1999/xlink\">\n<g id=\"graph0\" class=\"graph\" transform=\"scale(1 1) rotate(0) translate(4 576)\">\n<title>Tree</title>\n<polygon fill=\"#ffffff\" stroke=\"transparent\" points=\"-4,4 -4,-576 3203,-576 3203,4 -4,4\"/>\n<!-- 0 -->\n<g id=\"node1\" class=\"node\">\n<title>0</title>\n<path fill=\"#f6fef8\" stroke=\"#000000\" d=\"M1722,-572C1722,-572 1353,-572 1353,-572 1347,-572 1341,-566 1341,-560 1341,-560 1341,-486 1341,-486 1341,-480 1347,-474 1353,-474 1353,-474 1722,-474 1722,-474 1728,-474 1734,-480 1734,-486 1734,-486 1734,-560 1734,-560 1734,-566 1728,-572 1722,-572\"/>\n<text text-anchor=\"middle\" x=\"1537.5\" y=\"-556.8\" font-family=\"Helvetica,sans-Serif\" font-size=\"14.00\" fill=\"#000000\">Size_0 &lt;= 0.5</text>\n<text text-anchor=\"middle\" x=\"1537.5\" y=\"-541.8\" font-family=\"Helvetica,sans-Serif\" font-size=\"14.00\" fill=\"#000000\">samples = 100.0%</text>\n<text text-anchor=\"middle\" x=\"1537.5\" y=\"-526.8\" font-family=\"Helvetica,sans-Serif\" font-size=\"14.00\" fill=\"#000000\">value = [0.0, 0.006, 0.032, 0.076, 0.112, 0.124, 0.17, 0.129</text>\n<text text-anchor=\"middle\" x=\"1537.5\" y=\"-511.8\" font-family=\"Helvetica,sans-Serif\" font-size=\"14.00\" fill=\"#000000\">0.043, 0.007, 0.001, 0.006, 0.022, 0.045, 0.052, 0.057</text>\n<text text-anchor=\"middle\" x=\"1537.5\" y=\"-496.8\" font-family=\"Helvetica,sans-Serif\" font-size=\"14.00\" fill=\"#000000\">0.081, 0.03, 0.007]</text>\n<text text-anchor=\"middle\" x=\"1537.5\" y=\"-481.8\" font-family=\"Helvetica,sans-Serif\" font-size=\"14.00\" fill=\"#000000\">class = 1000000</text>\n</g>\n<!-- 1 -->\n<g id=\"node2\" class=\"node\">\n<title>1</title>\n<path fill=\"#f7fef9\" stroke=\"#000000\" d=\"M1517,-438C1517,-438 1140,-438 1140,-438 1134,-438 1128,-432 1128,-426 1128,-426 1128,-352 1128,-352 1128,-346 1134,-340 1140,-340 1140,-340 1517,-340 1517,-340 1523,-340 1529,-346 1529,-352 1529,-352 1529,-426 1529,-426 1529,-432 1523,-438 1517,-438\"/>\n<text text-anchor=\"middle\" x=\"1328.5\" y=\"-422.8\" font-family=\"Helvetica,sans-Serif\" font-size=\"14.00\" fill=\"#000000\">Rating &lt;= 4.95</text>\n<text text-anchor=\"middle\" x=\"1328.5\" y=\"-407.8\" font-family=\"Helvetica,sans-Serif\" font-size=\"14.00\" fill=\"#000000\">samples = 82.5%</text>\n<text text-anchor=\"middle\" x=\"1328.5\" y=\"-392.8\" font-family=\"Helvetica,sans-Serif\" font-size=\"14.00\" fill=\"#000000\">value = [0.0, 0.008, 0.038, 0.089, 0.129, 0.136, 0.171, 0.102</text>\n<text text-anchor=\"middle\" x=\"1328.5\" y=\"-377.8\" font-family=\"Helvetica,sans-Serif\" font-size=\"14.00\" fill=\"#000000\">0.027, 0.002, 0.001, 0.007, 0.026, 0.053, 0.059, 0.063</text>\n<text text-anchor=\"middle\" x=\"1328.5\" y=\"-362.8\" font-family=\"Helvetica,sans-Serif\" font-size=\"14.00\" fill=\"#000000\">0.07, 0.018, 0.003]</text>\n<text text-anchor=\"middle\" x=\"1328.5\" y=\"-347.8\" font-family=\"Helvetica,sans-Serif\" font-size=\"14.00\" fill=\"#000000\">class = 1000000</text>\n</g>\n<!-- 0&#45;&gt;1 -->\n<g id=\"edge1\" class=\"edge\">\n<title>0&#45;&gt;1</title>\n<path fill=\"none\" stroke=\"#000000\" d=\"M1460.8629,-473.8642C1445.5284,-464.0326 1429.3305,-453.6473 1413.7264,-443.6428\"/>\n<polygon fill=\"#000000\" stroke=\"#000000\" points=\"1415.4353,-440.5808 1405.1279,-438.1298 1411.6571,-446.4737 1415.4353,-440.5808\"/>\n<text text-anchor=\"middle\" x=\"1410.4682\" y=\"-458.8528\" font-family=\"Helvetica,sans-Serif\" font-size=\"14.00\" fill=\"#000000\">True</text>\n</g>\n<!-- 7244 -->\n<g id=\"node17\" class=\"node\">\n<title>7244</title>\n<path fill=\"#e8fcf4\" stroke=\"#000000\" d=\"M2111,-438C2111,-438 1742,-438 1742,-438 1736,-438 1730,-432 1730,-426 1730,-426 1730,-352 1730,-352 1730,-346 1736,-340 1742,-340 1742,-340 2111,-340 2111,-340 2117,-340 2123,-346 2123,-352 2123,-352 2123,-426 2123,-426 2123,-432 2117,-438 2111,-438\"/>\n<text text-anchor=\"middle\" x=\"1926.5\" y=\"-422.8\" font-family=\"Helvetica,sans-Serif\" font-size=\"14.00\" fill=\"#000000\">Price_0 &lt;= 0.5</text>\n<text text-anchor=\"middle\" x=\"1926.5\" y=\"-407.8\" font-family=\"Helvetica,sans-Serif\" font-size=\"14.00\" fill=\"#000000\">samples = 17.5%</text>\n<text text-anchor=\"middle\" x=\"1926.5\" y=\"-392.8\" font-family=\"Helvetica,sans-Serif\" font-size=\"14.00\" fill=\"#000000\">value = [0.0, 0.001, 0.004, 0.013, 0.031, 0.067, 0.165, 0.26</text>\n<text text-anchor=\"middle\" x=\"1926.5\" y=\"-377.8\" font-family=\"Helvetica,sans-Serif\" font-size=\"14.00\" fill=\"#000000\">0.122, 0.033, 0.0, 0.0, 0.002, 0.009, 0.017, 0.033</text>\n<text text-anchor=\"middle\" x=\"1926.5\" y=\"-362.8\" font-family=\"Helvetica,sans-Serif\" font-size=\"14.00\" fill=\"#000000\">0.131, 0.086, 0.025]</text>\n<text text-anchor=\"middle\" x=\"1926.5\" y=\"-347.8\" font-family=\"Helvetica,sans-Serif\" font-size=\"14.00\" fill=\"#000000\">class = 10000000</text>\n</g>\n<!-- 0&#45;&gt;7244 -->\n<g id=\"edge16\" class=\"edge\">\n<title>0&#45;&gt;7244</title>\n<path fill=\"none\" stroke=\"#000000\" d=\"M1679.8647,-473.9592C1710.6325,-463.3605 1743.2797,-452.1145 1774.404,-441.393\"/>\n<polygon fill=\"#000000\" stroke=\"#000000\" points=\"1775.6958,-444.6499 1784.0106,-438.0837 1773.4159,-438.0315 1775.6958,-444.6499\"/>\n<text text-anchor=\"middle\" x=\"1773.0543\" y=\"-456.855\" font-family=\"Helvetica,sans-Serif\" font-size=\"14.00\" fill=\"#000000\">False</text>\n</g>\n<!-- 2 -->\n<g id=\"node3\" class=\"node\">\n<title>2</title>\n<path fill=\"#f7fef9\" stroke=\"#000000\" d=\"M808,-304C808,-304 431,-304 431,-304 425,-304 419,-298 419,-292 419,-292 419,-218 419,-218 419,-212 425,-206 431,-206 431,-206 808,-206 808,-206 814,-206 820,-212 820,-218 820,-218 820,-292 820,-292 820,-298 814,-304 808,-304\"/>\n<text text-anchor=\"middle\" x=\"619.5\" y=\"-288.8\" font-family=\"Helvetica,sans-Serif\" font-size=\"14.00\" fill=\"#000000\">Type_Free &lt;= 0.5</text>\n<text text-anchor=\"middle\" x=\"619.5\" y=\"-273.8\" font-family=\"Helvetica,sans-Serif\" font-size=\"14.00\" fill=\"#000000\">samples = 79.6%</text>\n<text text-anchor=\"middle\" x=\"619.5\" y=\"-258.8\" font-family=\"Helvetica,sans-Serif\" font-size=\"14.00\" fill=\"#000000\">value = [0.0, 0.002, 0.024, 0.087, 0.134, 0.141, 0.177, 0.105</text>\n<text text-anchor=\"middle\" x=\"619.5\" y=\"-243.8\" font-family=\"Helvetica,sans-Serif\" font-size=\"14.00\" fill=\"#000000\">0.028, 0.002, 0.0, 0.003, 0.023, 0.054, 0.061, 0.065</text>\n<text text-anchor=\"middle\" x=\"619.5\" y=\"-228.8\" font-family=\"Helvetica,sans-Serif\" font-size=\"14.00\" fill=\"#000000\">0.072, 0.019, 0.003]</text>\n<text text-anchor=\"middle\" x=\"619.5\" y=\"-213.8\" font-family=\"Helvetica,sans-Serif\" font-size=\"14.00\" fill=\"#000000\">class = 1000000</text>\n</g>\n<!-- 1&#45;&gt;2 -->\n<g id=\"edge2\" class=\"edge\">\n<title>1&#45;&gt;2</title>\n<path fill=\"none\" stroke=\"#000000\" d=\"M1127.6989,-351.0489C1034.7681,-333.4851 924.3621,-312.6185 830.2362,-294.8288\"/>\n<polygon fill=\"#000000\" stroke=\"#000000\" points=\"830.7818,-291.3701 820.3057,-292.952 829.4817,-298.2483 830.7818,-291.3701\"/>\n</g>\n<!-- 7011 -->\n<g id=\"node10\" class=\"node\">\n<title>7011</title>\n<path fill=\"#f5f7c2\" stroke=\"#000000\" d=\"M1514.5,-304C1514.5,-304 1142.5,-304 1142.5,-304 1136.5,-304 1130.5,-298 1130.5,-292 1130.5,-292 1130.5,-218 1130.5,-218 1130.5,-212 1136.5,-206 1142.5,-206 1142.5,-206 1514.5,-206 1514.5,-206 1520.5,-206 1526.5,-212 1526.5,-218 1526.5,-218 1526.5,-292 1526.5,-292 1526.5,-298 1520.5,-304 1514.5,-304\"/>\n<text text-anchor=\"middle\" x=\"1328.5\" y=\"-288.8\" font-family=\"Helvetica,sans-Serif\" font-size=\"14.00\" fill=\"#000000\">Reviews_1 &lt;= 0.5</text>\n<text text-anchor=\"middle\" x=\"1328.5\" y=\"-273.8\" font-family=\"Helvetica,sans-Serif\" font-size=\"14.00\" fill=\"#000000\">samples = 2.9%</text>\n<text text-anchor=\"middle\" x=\"1328.5\" y=\"-258.8\" font-family=\"Helvetica,sans-Serif\" font-size=\"14.00\" fill=\"#000000\">value = [0.005, 0.152, 0.412, 0.142, 0.005, 0.0, 0.0, 0.0, 0.0</text>\n<text text-anchor=\"middle\" x=\"1328.5\" y=\"-243.8\" font-family=\"Helvetica,sans-Serif\" font-size=\"14.00\" fill=\"#000000\">0.0, 0.034, 0.123, 0.113, 0.015, 0.0, 0.0, 0.0, 0.0</text>\n<text text-anchor=\"middle\" x=\"1328.5\" y=\"-228.8\" font-family=\"Helvetica,sans-Serif\" font-size=\"14.00\" fill=\"#000000\">0.0]</text>\n<text text-anchor=\"middle\" x=\"1328.5\" y=\"-213.8\" font-family=\"Helvetica,sans-Serif\" font-size=\"14.00\" fill=\"#000000\">class = 100</text>\n</g>\n<!-- 1&#45;&gt;7011 -->\n<g id=\"edge9\" class=\"edge\">\n<title>1&#45;&gt;7011</title>\n<path fill=\"none\" stroke=\"#000000\" d=\"M1328.5,-339.8642C1328.5,-331.5802 1328.5,-322.903 1328.5,-314.3918\"/>\n<polygon fill=\"#000000\" stroke=\"#000000\" points=\"1332.0001,-314.1298 1328.5,-304.1298 1325.0001,-314.1299 1332.0001,-314.1298\"/>\n</g>\n<!-- 3 -->\n<g id=\"node4\" class=\"node\">\n<title>3</title>\n<path fill=\"#fdfefa\" stroke=\"#000000\" d=\"M389,-170C389,-170 12,-170 12,-170 6,-170 0,-164 0,-158 0,-158 0,-84 0,-84 0,-78 6,-72 12,-72 12,-72 389,-72 389,-72 395,-72 401,-78 401,-84 401,-84 401,-158 401,-158 401,-164 395,-170 389,-170\"/>\n<text text-anchor=\"middle\" x=\"200.5\" y=\"-154.8\" font-family=\"Helvetica,sans-Serif\" font-size=\"14.00\" fill=\"#000000\">Rating &lt;= 3.55</text>\n<text text-anchor=\"middle\" x=\"200.5\" y=\"-139.8\" font-family=\"Helvetica,sans-Serif\" font-size=\"14.00\" fill=\"#000000\">samples = 5.8%</text>\n<text text-anchor=\"middle\" x=\"200.5\" y=\"-124.8\" font-family=\"Helvetica,sans-Serif\" font-size=\"14.00\" fill=\"#000000\">value = [0.0, 0.015, 0.098, 0.235, 0.216, 0.132, 0.034, 0.002</text>\n<text text-anchor=\"middle\" x=\"200.5\" y=\"-109.8\" font-family=\"Helvetica,sans-Serif\" font-size=\"14.00\" fill=\"#000000\">0.0, 0.0, 0.0, 0.015, 0.064, 0.108, 0.066, 0.015, 0.0</text>\n<text text-anchor=\"middle\" x=\"200.5\" y=\"-94.8\" font-family=\"Helvetica,sans-Serif\" font-size=\"14.00\" fill=\"#000000\">0.0, 0.0]</text>\n<text text-anchor=\"middle\" x=\"200.5\" y=\"-79.8\" font-family=\"Helvetica,sans-Serif\" font-size=\"14.00\" fill=\"#000000\">class = 1000</text>\n</g>\n<!-- 2&#45;&gt;3 -->\n<g id=\"edge3\" class=\"edge\">\n<title>2&#45;&gt;3</title>\n<path fill=\"none\" stroke=\"#000000\" d=\"M466.156,-205.9592C432.8725,-195.3148 397.5472,-184.0175 363.8923,-173.2543\"/>\n<polygon fill=\"#000000\" stroke=\"#000000\" points=\"364.5692,-169.7962 353.9782,-170.0837 362.4369,-176.4636 364.5692,-169.7962\"/>\n</g>\n<!-- 458 -->\n<g id=\"node7\" class=\"node\">\n<title>458</title>\n<path fill=\"#f4fef7\" stroke=\"#000000\" d=\"M808,-170C808,-170 431,-170 431,-170 425,-170 419,-164 419,-158 419,-158 419,-84 419,-84 419,-78 425,-72 431,-72 431,-72 808,-72 808,-72 814,-72 820,-78 820,-84 820,-84 820,-158 820,-158 820,-164 814,-170 808,-170\"/>\n<text text-anchor=\"middle\" x=\"619.5\" y=\"-154.8\" font-family=\"Helvetica,sans-Serif\" font-size=\"14.00\" fill=\"#000000\">Rating &lt;= 3.95</text>\n<text text-anchor=\"middle\" x=\"619.5\" y=\"-139.8\" font-family=\"Helvetica,sans-Serif\" font-size=\"14.00\" fill=\"#000000\">samples = 73.8%</text>\n<text text-anchor=\"middle\" x=\"619.5\" y=\"-124.8\" font-family=\"Helvetica,sans-Serif\" font-size=\"14.00\" fill=\"#000000\">value = [0.0, 0.001, 0.018, 0.075, 0.127, 0.142, 0.188, 0.114</text>\n<text text-anchor=\"middle\" x=\"619.5\" y=\"-109.8\" font-family=\"Helvetica,sans-Serif\" font-size=\"14.00\" fill=\"#000000\">0.03, 0.002, 0.0, 0.002, 0.02, 0.05, 0.061, 0.069</text>\n<text text-anchor=\"middle\" x=\"619.5\" y=\"-94.8\" font-family=\"Helvetica,sans-Serif\" font-size=\"14.00\" fill=\"#000000\">0.078, 0.02, 0.003]</text>\n<text text-anchor=\"middle\" x=\"619.5\" y=\"-79.8\" font-family=\"Helvetica,sans-Serif\" font-size=\"14.00\" fill=\"#000000\">class = 1000000</text>\n</g>\n<!-- 2&#45;&gt;458 -->\n<g id=\"edge6\" class=\"edge\">\n<title>2&#45;&gt;458</title>\n<path fill=\"none\" stroke=\"#000000\" d=\"M619.5,-205.8642C619.5,-197.5802 619.5,-188.903 619.5,-180.3918\"/>\n<polygon fill=\"#000000\" stroke=\"#000000\" points=\"623.0001,-180.1298 619.5,-170.1298 616.0001,-180.1299 623.0001,-180.1298\"/>\n</g>\n<!-- 4 -->\n<g id=\"node5\" class=\"node\">\n<title>4</title>\n<path fill=\"#c0c0c0\" stroke=\"#000000\" d=\"M179.5,-36C179.5,-36 149.5,-36 149.5,-36 143.5,-36 137.5,-30 137.5,-24 137.5,-24 137.5,-12 137.5,-12 137.5,-6 143.5,0 149.5,0 149.5,0 179.5,0 179.5,0 185.5,0 191.5,-6 191.5,-12 191.5,-12 191.5,-24 191.5,-24 191.5,-30 185.5,-36 179.5,-36\"/>\n<text text-anchor=\"middle\" x=\"164.5\" y=\"-14.3\" font-family=\"Helvetica,sans-Serif\" font-size=\"14.00\" fill=\"#000000\">(...)</text>\n</g>\n<!-- 3&#45;&gt;4 -->\n<g id=\"edge4\" class=\"edge\">\n<title>3&#45;&gt;4</title>\n<path fill=\"none\" stroke=\"#000000\" d=\"M183.3435,-71.9133C180.2365,-63.0239 177.096,-54.0385 174.2932,-46.0195\"/>\n<polygon fill=\"#000000\" stroke=\"#000000\" points=\"177.5552,-44.7441 170.9517,-36.4589 170.9471,-47.0538 177.5552,-44.7441\"/>\n</g>\n<!-- 57 -->\n<g id=\"node6\" class=\"node\">\n<title>57</title>\n<path fill=\"#c0c0c0\" stroke=\"#000000\" d=\"M251.5,-36C251.5,-36 221.5,-36 221.5,-36 215.5,-36 209.5,-30 209.5,-24 209.5,-24 209.5,-12 209.5,-12 209.5,-6 215.5,0 221.5,0 221.5,0 251.5,0 251.5,0 257.5,0 263.5,-6 263.5,-12 263.5,-12 263.5,-24 263.5,-24 263.5,-30 257.5,-36 251.5,-36\"/>\n<text text-anchor=\"middle\" x=\"236.5\" y=\"-14.3\" font-family=\"Helvetica,sans-Serif\" font-size=\"14.00\" fill=\"#000000\">(...)</text>\n</g>\n<!-- 3&#45;&gt;57 -->\n<g id=\"edge5\" class=\"edge\">\n<title>3&#45;&gt;57</title>\n<path fill=\"none\" stroke=\"#000000\" d=\"M217.6565,-71.9133C220.7635,-63.0239 223.904,-54.0385 226.7068,-46.0195\"/>\n<polygon fill=\"#000000\" stroke=\"#000000\" points=\"230.0529,-47.0538 230.0483,-36.4589 223.4448,-44.7441 230.0529,-47.0538\"/>\n</g>\n<!-- 459 -->\n<g id=\"node8\" class=\"node\">\n<title>459</title>\n<path fill=\"#c0c0c0\" stroke=\"#000000\" d=\"M598.5,-36C598.5,-36 568.5,-36 568.5,-36 562.5,-36 556.5,-30 556.5,-24 556.5,-24 556.5,-12 556.5,-12 556.5,-6 562.5,0 568.5,0 568.5,0 598.5,0 598.5,0 604.5,0 610.5,-6 610.5,-12 610.5,-12 610.5,-24 610.5,-24 610.5,-30 604.5,-36 598.5,-36\"/>\n<text text-anchor=\"middle\" x=\"583.5\" y=\"-14.3\" font-family=\"Helvetica,sans-Serif\" font-size=\"14.00\" fill=\"#000000\">(...)</text>\n</g>\n<!-- 458&#45;&gt;459 -->\n<g id=\"edge7\" class=\"edge\">\n<title>458&#45;&gt;459</title>\n<path fill=\"none\" stroke=\"#000000\" d=\"M602.3435,-71.9133C599.2365,-63.0239 596.096,-54.0385 593.2932,-46.0195\"/>\n<polygon fill=\"#000000\" stroke=\"#000000\" points=\"596.5552,-44.7441 589.9517,-36.4589 589.9471,-47.0538 596.5552,-44.7441\"/>\n</g>\n<!-- 2050 -->\n<g id=\"node9\" class=\"node\">\n<title>2050</title>\n<path fill=\"#c0c0c0\" stroke=\"#000000\" d=\"M670.5,-36C670.5,-36 640.5,-36 640.5,-36 634.5,-36 628.5,-30 628.5,-24 628.5,-24 628.5,-12 628.5,-12 628.5,-6 634.5,0 640.5,0 640.5,0 670.5,0 670.5,0 676.5,0 682.5,-6 682.5,-12 682.5,-12 682.5,-24 682.5,-24 682.5,-30 676.5,-36 670.5,-36\"/>\n<text text-anchor=\"middle\" x=\"655.5\" y=\"-14.3\" font-family=\"Helvetica,sans-Serif\" font-size=\"14.00\" fill=\"#000000\">(...)</text>\n</g>\n<!-- 458&#45;&gt;2050 -->\n<g id=\"edge8\" class=\"edge\">\n<title>458&#45;&gt;2050</title>\n<path fill=\"none\" stroke=\"#000000\" d=\"M636.6565,-71.9133C639.7635,-63.0239 642.904,-54.0385 645.7068,-46.0195\"/>\n<polygon fill=\"#000000\" stroke=\"#000000\" points=\"649.0529,-47.0538 649.0483,-36.4589 642.4448,-44.7441 649.0529,-47.0538\"/>\n</g>\n<!-- 7012 -->\n<g id=\"node11\" class=\"node\">\n<title>7012</title>\n<path fill=\"#f5f7bf\" stroke=\"#000000\" d=\"M1222.5,-170C1222.5,-170 850.5,-170 850.5,-170 844.5,-170 838.5,-164 838.5,-158 838.5,-158 838.5,-84 838.5,-84 838.5,-78 844.5,-72 850.5,-72 850.5,-72 1222.5,-72 1222.5,-72 1228.5,-72 1234.5,-78 1234.5,-84 1234.5,-84 1234.5,-158 1234.5,-158 1234.5,-164 1228.5,-170 1222.5,-170\"/>\n<text text-anchor=\"middle\" x=\"1036.5\" y=\"-154.8\" font-family=\"Helvetica,sans-Serif\" font-size=\"14.00\" fill=\"#000000\">Price_0.99 &lt;= 0.5</text>\n<text text-anchor=\"middle\" x=\"1036.5\" y=\"-139.8\" font-family=\"Helvetica,sans-Serif\" font-size=\"14.00\" fill=\"#000000\">samples = 2.5%</text>\n<text text-anchor=\"middle\" x=\"1036.5\" y=\"-124.8\" font-family=\"Helvetica,sans-Serif\" font-size=\"14.00\" fill=\"#000000\">value = [0.006, 0.086, 0.437, 0.167, 0.006, 0.0, 0.0, 0.0, 0.0</text>\n<text text-anchor=\"middle\" x=\"1036.5\" y=\"-109.8\" font-family=\"Helvetica,sans-Serif\" font-size=\"14.00\" fill=\"#000000\">0.0, 0.029, 0.126, 0.126, 0.017, 0.0, 0.0, 0.0, 0.0</text>\n<text text-anchor=\"middle\" x=\"1036.5\" y=\"-94.8\" font-family=\"Helvetica,sans-Serif\" font-size=\"14.00\" fill=\"#000000\">0.0]</text>\n<text text-anchor=\"middle\" x=\"1036.5\" y=\"-79.8\" font-family=\"Helvetica,sans-Serif\" font-size=\"14.00\" fill=\"#000000\">class = 100</text>\n</g>\n<!-- 7011&#45;&gt;7012 -->\n<g id=\"edge10\" class=\"edge\">\n<title>7011&#45;&gt;7012</title>\n<path fill=\"none\" stroke=\"#000000\" d=\"M1221.428,-205.8642C1199.1112,-195.6229 1175.4852,-184.7809 1152.8517,-174.3943\"/>\n<polygon fill=\"#000000\" stroke=\"#000000\" points=\"1154.1075,-171.1197 1143.559,-170.1298 1151.1879,-177.4818 1154.1075,-171.1197\"/>\n</g>\n<!-- 7213 -->\n<g id=\"node14\" class=\"node\">\n<title>7213</title>\n<path fill=\"#f6e4b7\" stroke=\"#000000\" d=\"M1614.5,-162.5C1614.5,-162.5 1264.5,-162.5 1264.5,-162.5 1258.5,-162.5 1252.5,-156.5 1252.5,-150.5 1252.5,-150.5 1252.5,-91.5 1252.5,-91.5 1252.5,-85.5 1258.5,-79.5 1264.5,-79.5 1264.5,-79.5 1614.5,-79.5 1614.5,-79.5 1620.5,-79.5 1626.5,-85.5 1626.5,-91.5 1626.5,-91.5 1626.5,-150.5 1626.5,-150.5 1626.5,-156.5 1620.5,-162.5 1614.5,-162.5\"/>\n<text text-anchor=\"middle\" x=\"1439.5\" y=\"-147.3\" font-family=\"Helvetica,sans-Serif\" font-size=\"14.00\" fill=\"#000000\">Genres_Education &lt;= 0.5</text>\n<text text-anchor=\"middle\" x=\"1439.5\" y=\"-132.3\" font-family=\"Helvetica,sans-Serif\" font-size=\"14.00\" fill=\"#000000\">samples = 0.4%</text>\n<text text-anchor=\"middle\" x=\"1439.5\" y=\"-117.3\" font-family=\"Helvetica,sans-Serif\" font-size=\"14.00\" fill=\"#000000\">value = [0.0, 0.533, 0.267, 0.0, 0.0, 0.0, 0.0, 0.0, 0.0, 0.0</text>\n<text text-anchor=\"middle\" x=\"1439.5\" y=\"-102.3\" font-family=\"Helvetica,sans-Serif\" font-size=\"14.00\" fill=\"#000000\">0.067, 0.1, 0.033, 0.0, 0.0, 0.0, 0.0, 0.0, 0.0]</text>\n<text text-anchor=\"middle\" x=\"1439.5\" y=\"-87.3\" font-family=\"Helvetica,sans-Serif\" font-size=\"14.00\" fill=\"#000000\">class = 10</text>\n</g>\n<!-- 7011&#45;&gt;7213 -->\n<g id=\"edge13\" class=\"edge\">\n<title>7011&#45;&gt;7213</title>\n<path fill=\"none\" stroke=\"#000000\" d=\"M1369.202,-205.8642C1378.7538,-194.3333 1388.9364,-182.0408 1398.5011,-170.4942\"/>\n<polygon fill=\"#000000\" stroke=\"#000000\" points=\"1401.3248,-172.5719 1405.0087,-162.6381 1395.9341,-168.1064 1401.3248,-172.5719\"/>\n</g>\n<!-- 7013 -->\n<g id=\"node12\" class=\"node\">\n<title>7013</title>\n<path fill=\"#c0c0c0\" stroke=\"#000000\" d=\"M1015.5,-36C1015.5,-36 985.5,-36 985.5,-36 979.5,-36 973.5,-30 973.5,-24 973.5,-24 973.5,-12 973.5,-12 973.5,-6 979.5,0 985.5,0 985.5,0 1015.5,0 1015.5,0 1021.5,0 1027.5,-6 1027.5,-12 1027.5,-12 1027.5,-24 1027.5,-24 1027.5,-30 1021.5,-36 1015.5,-36\"/>\n<text text-anchor=\"middle\" x=\"1000.5\" y=\"-14.3\" font-family=\"Helvetica,sans-Serif\" font-size=\"14.00\" fill=\"#000000\">(...)</text>\n</g>\n<!-- 7012&#45;&gt;7013 -->\n<g id=\"edge11\" class=\"edge\">\n<title>7012&#45;&gt;7013</title>\n<path fill=\"none\" stroke=\"#000000\" d=\"M1019.3435,-71.9133C1016.2365,-63.0239 1013.096,-54.0385 1010.2932,-46.0195\"/>\n<polygon fill=\"#000000\" stroke=\"#000000\" points=\"1013.5552,-44.7441 1006.9517,-36.4589 1006.9471,-47.0538 1013.5552,-44.7441\"/>\n</g>\n<!-- 7210 -->\n<g id=\"node13\" class=\"node\">\n<title>7210</title>\n<path fill=\"#c0c0c0\" stroke=\"#000000\" d=\"M1087.5,-36C1087.5,-36 1057.5,-36 1057.5,-36 1051.5,-36 1045.5,-30 1045.5,-24 1045.5,-24 1045.5,-12 1045.5,-12 1045.5,-6 1051.5,0 1057.5,0 1057.5,0 1087.5,0 1087.5,0 1093.5,0 1099.5,-6 1099.5,-12 1099.5,-12 1099.5,-24 1099.5,-24 1099.5,-30 1093.5,-36 1087.5,-36\"/>\n<text text-anchor=\"middle\" x=\"1072.5\" y=\"-14.3\" font-family=\"Helvetica,sans-Serif\" font-size=\"14.00\" fill=\"#000000\">(...)</text>\n</g>\n<!-- 7012&#45;&gt;7210 -->\n<g id=\"edge12\" class=\"edge\">\n<title>7012&#45;&gt;7210</title>\n<path fill=\"none\" stroke=\"#000000\" d=\"M1053.6565,-71.9133C1056.7635,-63.0239 1059.904,-54.0385 1062.7068,-46.0195\"/>\n<polygon fill=\"#000000\" stroke=\"#000000\" points=\"1066.0529,-47.0538 1066.0483,-36.4589 1059.4448,-44.7441 1066.0529,-47.0538\"/>\n</g>\n<!-- 7214 -->\n<g id=\"node15\" class=\"node\">\n<title>7214</title>\n<path fill=\"#c0c0c0\" stroke=\"#000000\" d=\"M1418.5,-36C1418.5,-36 1388.5,-36 1388.5,-36 1382.5,-36 1376.5,-30 1376.5,-24 1376.5,-24 1376.5,-12 1376.5,-12 1376.5,-6 1382.5,0 1388.5,0 1388.5,0 1418.5,0 1418.5,0 1424.5,0 1430.5,-6 1430.5,-12 1430.5,-12 1430.5,-24 1430.5,-24 1430.5,-30 1424.5,-36 1418.5,-36\"/>\n<text text-anchor=\"middle\" x=\"1403.5\" y=\"-14.3\" font-family=\"Helvetica,sans-Serif\" font-size=\"14.00\" fill=\"#000000\">(...)</text>\n</g>\n<!-- 7213&#45;&gt;7214 -->\n<g id=\"edge14\" class=\"edge\">\n<title>7213&#45;&gt;7214</title>\n<path fill=\"none\" stroke=\"#000000\" d=\"M1424.9612,-79.4029C1421.0095,-68.0967 1416.8266,-56.1289 1413.2135,-45.7914\"/>\n<polygon fill=\"#000000\" stroke=\"#000000\" points=\"1416.4235,-44.3673 1409.82,-36.0821 1409.8155,-46.677 1416.4235,-44.3673\"/>\n</g>\n<!-- 7243 -->\n<g id=\"node16\" class=\"node\">\n<title>7243</title>\n<path fill=\"#c0c0c0\" stroke=\"#000000\" d=\"M1490.5,-36C1490.5,-36 1460.5,-36 1460.5,-36 1454.5,-36 1448.5,-30 1448.5,-24 1448.5,-24 1448.5,-12 1448.5,-12 1448.5,-6 1454.5,0 1460.5,0 1460.5,0 1490.5,0 1490.5,0 1496.5,0 1502.5,-6 1502.5,-12 1502.5,-12 1502.5,-24 1502.5,-24 1502.5,-30 1496.5,-36 1490.5,-36\"/>\n<text text-anchor=\"middle\" x=\"1475.5\" y=\"-14.3\" font-family=\"Helvetica,sans-Serif\" font-size=\"14.00\" fill=\"#000000\">(...)</text>\n</g>\n<!-- 7213&#45;&gt;7243 -->\n<g id=\"edge15\" class=\"edge\">\n<title>7213&#45;&gt;7243</title>\n<path fill=\"none\" stroke=\"#000000\" d=\"M1454.0388,-79.4029C1457.9905,-68.0967 1462.1734,-56.1289 1465.7865,-45.7914\"/>\n<polygon fill=\"#000000\" stroke=\"#000000\" points=\"1469.1845,-46.677 1469.18,-36.0821 1462.5765,-44.3673 1469.1845,-46.677\"/>\n</g>\n<!-- 7245 -->\n<g id=\"node18\" class=\"node\">\n<title>7245</title>\n<path fill=\"#fbfefa\" stroke=\"#000000\" d=\"M2116.5,-304C2116.5,-304 1736.5,-304 1736.5,-304 1730.5,-304 1724.5,-298 1724.5,-292 1724.5,-292 1724.5,-218 1724.5,-218 1724.5,-212 1730.5,-206 1736.5,-206 1736.5,-206 2116.5,-206 2116.5,-206 2122.5,-206 2128.5,-212 2128.5,-218 2128.5,-218 2128.5,-292 2128.5,-292 2128.5,-298 2122.5,-304 2116.5,-304\"/>\n<text text-anchor=\"middle\" x=\"1926.5\" y=\"-288.8\" font-family=\"Helvetica,sans-Serif\" font-size=\"14.00\" fill=\"#000000\">Rating &lt;= 3.7</text>\n<text text-anchor=\"middle\" x=\"1926.5\" y=\"-273.8\" font-family=\"Helvetica,sans-Serif\" font-size=\"14.00\" fill=\"#000000\">samples = 0.7%</text>\n<text text-anchor=\"middle\" x=\"1926.5\" y=\"-258.8\" font-family=\"Helvetica,sans-Serif\" font-size=\"14.00\" fill=\"#000000\">value = [0.0, 0.0, 0.039, 0.078, 0.294, 0.275, 0.02, 0.039, 0.0</text>\n<text text-anchor=\"middle\" x=\"1926.5\" y=\"-243.8\" font-family=\"Helvetica,sans-Serif\" font-size=\"14.00\" fill=\"#000000\">0.0, 0.0, 0.0, 0.02, 0.118, 0.118, 0.0, 0.0, 0.0</text>\n<text text-anchor=\"middle\" x=\"1926.5\" y=\"-228.8\" font-family=\"Helvetica,sans-Serif\" font-size=\"14.00\" fill=\"#000000\">0.0]</text>\n<text text-anchor=\"middle\" x=\"1926.5\" y=\"-213.8\" font-family=\"Helvetica,sans-Serif\" font-size=\"14.00\" fill=\"#000000\">class = 10000</text>\n</g>\n<!-- 7244&#45;&gt;7245 -->\n<g id=\"edge17\" class=\"edge\">\n<title>7244&#45;&gt;7245</title>\n<path fill=\"none\" stroke=\"#000000\" d=\"M1926.5,-339.8642C1926.5,-331.5802 1926.5,-322.903 1926.5,-314.3918\"/>\n<polygon fill=\"#000000\" stroke=\"#000000\" points=\"1930.0001,-314.1298 1926.5,-304.1298 1923.0001,-314.1299 1930.0001,-314.1298\"/>\n</g>\n<!-- 7298 -->\n<g id=\"node23\" class=\"node\">\n<title>7298</title>\n<path fill=\"#e7fcf4\" stroke=\"#000000\" d=\"M2776,-304C2776,-304 2423,-304 2423,-304 2417,-304 2411,-298 2411,-292 2411,-292 2411,-218 2411,-218 2411,-212 2417,-206 2423,-206 2423,-206 2776,-206 2776,-206 2782,-206 2788,-212 2788,-218 2788,-218 2788,-292 2788,-292 2788,-298 2782,-304 2776,-304\"/>\n<text text-anchor=\"middle\" x=\"2599.5\" y=\"-288.8\" font-family=\"Helvetica,sans-Serif\" font-size=\"14.00\" fill=\"#000000\">Rating &lt;= 4.25</text>\n<text text-anchor=\"middle\" x=\"2599.5\" y=\"-273.8\" font-family=\"Helvetica,sans-Serif\" font-size=\"14.00\" fill=\"#000000\">samples = 16.7%</text>\n<text text-anchor=\"middle\" x=\"2599.5\" y=\"-258.8\" font-family=\"Helvetica,sans-Serif\" font-size=\"14.00\" fill=\"#000000\">value = [0.0, 0.001, 0.003, 0.01, 0.02, 0.058, 0.171, 0.27</text>\n<text text-anchor=\"middle\" x=\"2599.5\" y=\"-243.8\" font-family=\"Helvetica,sans-Serif\" font-size=\"14.00\" fill=\"#000000\">0.128, 0.035, 0.0, 0.0, 0.002, 0.004, 0.013, 0.034</text>\n<text text-anchor=\"middle\" x=\"2599.5\" y=\"-228.8\" font-family=\"Helvetica,sans-Serif\" font-size=\"14.00\" fill=\"#000000\">0.137, 0.09, 0.026]</text>\n<text text-anchor=\"middle\" x=\"2599.5\" y=\"-213.8\" font-family=\"Helvetica,sans-Serif\" font-size=\"14.00\" fill=\"#000000\">class = 10000000</text>\n</g>\n<!-- 7244&#45;&gt;7298 -->\n<g id=\"edge22\" class=\"edge\">\n<title>7244&#45;&gt;7298</title>\n<path fill=\"none\" stroke=\"#000000\" d=\"M2123.4216,-349.7912C2210.7327,-332.4069 2313.2814,-311.9886 2400.7979,-294.5633\"/>\n<polygon fill=\"#000000\" stroke=\"#000000\" points=\"2401.7238,-297.9477 2410.8478,-292.5623 2400.3568,-291.0825 2401.7238,-297.9477\"/>\n</g>\n<!-- 7246 -->\n<g id=\"node19\" class=\"node\">\n<title>7246</title>\n<path fill=\"#dfe539\" stroke=\"#000000\" d=\"M1974,-155C1974,-155 1657,-155 1657,-155 1651,-155 1645,-149 1645,-143 1645,-143 1645,-99 1645,-99 1645,-93 1651,-87 1657,-87 1657,-87 1974,-87 1974,-87 1980,-87 1986,-93 1986,-99 1986,-99 1986,-143 1986,-143 1986,-149 1980,-155 1974,-155\"/>\n<text text-anchor=\"middle\" x=\"1815.5\" y=\"-139.8\" font-family=\"Helvetica,sans-Serif\" font-size=\"14.00\" fill=\"#000000\">samples = 0.0%</text>\n<text text-anchor=\"middle\" x=\"1815.5\" y=\"-124.8\" font-family=\"Helvetica,sans-Serif\" font-size=\"14.00\" fill=\"#000000\">value = [0.0, 0.0, 1.0, 0.0, 0.0, 0.0, 0.0, 0.0, 0.0, 0.0</text>\n<text text-anchor=\"middle\" x=\"1815.5\" y=\"-109.8\" font-family=\"Helvetica,sans-Serif\" font-size=\"14.00\" fill=\"#000000\">0.0, 0.0, 0.0, 0.0, 0.0, 0.0, 0.0, 0.0, 0.0]</text>\n<text text-anchor=\"middle\" x=\"1815.5\" y=\"-94.8\" font-family=\"Helvetica,sans-Serif\" font-size=\"14.00\" fill=\"#000000\">class = 100</text>\n</g>\n<!-- 7245&#45;&gt;7246 -->\n<g id=\"edge18\" class=\"edge\">\n<title>7245&#45;&gt;7246</title>\n<path fill=\"none\" stroke=\"#000000\" d=\"M1885.798,-205.8642C1874.1087,-191.7528 1861.4746,-176.5009 1850.1844,-162.8713\"/>\n<polygon fill=\"#000000\" stroke=\"#000000\" points=\"1852.7842,-160.5231 1843.7096,-155.0548 1847.3935,-164.9886 1852.7842,-160.5231\"/>\n</g>\n<!-- 7247 -->\n<g id=\"node20\" class=\"node\">\n<title>7247</title>\n<path fill=\"#fbfef9\" stroke=\"#000000\" d=\"M2380.5,-170C2380.5,-170 2016.5,-170 2016.5,-170 2010.5,-170 2004.5,-164 2004.5,-158 2004.5,-158 2004.5,-84 2004.5,-84 2004.5,-78 2010.5,-72 2016.5,-72 2016.5,-72 2380.5,-72 2380.5,-72 2386.5,-72 2392.5,-78 2392.5,-84 2392.5,-84 2392.5,-158 2392.5,-158 2392.5,-164 2386.5,-170 2380.5,-170\"/>\n<text text-anchor=\"middle\" x=\"2198.5\" y=\"-154.8\" font-family=\"Helvetica,sans-Serif\" font-size=\"14.00\" fill=\"#000000\">Genres_Arcade &lt;= 0.5</text>\n<text text-anchor=\"middle\" x=\"2198.5\" y=\"-139.8\" font-family=\"Helvetica,sans-Serif\" font-size=\"14.00\" fill=\"#000000\">samples = 0.7%</text>\n<text text-anchor=\"middle\" x=\"2198.5\" y=\"-124.8\" font-family=\"Helvetica,sans-Serif\" font-size=\"14.00\" fill=\"#000000\">value = [0.0, 0.0, 0.0, 0.082, 0.306, 0.286, 0.02, 0.041, 0.0</text>\n<text text-anchor=\"middle\" x=\"2198.5\" y=\"-109.8\" font-family=\"Helvetica,sans-Serif\" font-size=\"14.00\" fill=\"#000000\">0.0, 0.0, 0.0, 0.02, 0.122, 0.122, 0.0, 0.0, 0.0</text>\n<text text-anchor=\"middle\" x=\"2198.5\" y=\"-94.8\" font-family=\"Helvetica,sans-Serif\" font-size=\"14.00\" fill=\"#000000\">0.0]</text>\n<text text-anchor=\"middle\" x=\"2198.5\" y=\"-79.8\" font-family=\"Helvetica,sans-Serif\" font-size=\"14.00\" fill=\"#000000\">class = 10000</text>\n</g>\n<!-- 7245&#45;&gt;7247 -->\n<g id=\"edge19\" class=\"edge\">\n<title>7245&#45;&gt;7247</title>\n<path fill=\"none\" stroke=\"#000000\" d=\"M2026.2383,-205.8642C2046.8418,-195.714 2068.6432,-184.9736 2089.5552,-174.6713\"/>\n<polygon fill=\"#000000\" stroke=\"#000000\" points=\"2091.35,-177.6888 2098.7738,-170.1298 2088.2565,-171.4095 2091.35,-177.6888\"/>\n</g>\n<!-- 7248 -->\n<g id=\"node21\" class=\"node\">\n<title>7248</title>\n<path fill=\"#c0c0c0\" stroke=\"#000000\" d=\"M2177.5,-36C2177.5,-36 2147.5,-36 2147.5,-36 2141.5,-36 2135.5,-30 2135.5,-24 2135.5,-24 2135.5,-12 2135.5,-12 2135.5,-6 2141.5,0 2147.5,0 2147.5,0 2177.5,0 2177.5,0 2183.5,0 2189.5,-6 2189.5,-12 2189.5,-12 2189.5,-24 2189.5,-24 2189.5,-30 2183.5,-36 2177.5,-36\"/>\n<text text-anchor=\"middle\" x=\"2162.5\" y=\"-14.3\" font-family=\"Helvetica,sans-Serif\" font-size=\"14.00\" fill=\"#000000\">(...)</text>\n</g>\n<!-- 7247&#45;&gt;7248 -->\n<g id=\"edge20\" class=\"edge\">\n<title>7247&#45;&gt;7248</title>\n<path fill=\"none\" stroke=\"#000000\" d=\"M2181.3435,-71.9133C2178.2365,-63.0239 2175.096,-54.0385 2172.2932,-46.0195\"/>\n<polygon fill=\"#000000\" stroke=\"#000000\" points=\"2175.5552,-44.7441 2168.9517,-36.4589 2168.9471,-47.0538 2175.5552,-44.7441\"/>\n</g>\n<!-- 7297 -->\n<g id=\"node22\" class=\"node\">\n<title>7297</title>\n<path fill=\"#c0c0c0\" stroke=\"#000000\" d=\"M2249.5,-36C2249.5,-36 2219.5,-36 2219.5,-36 2213.5,-36 2207.5,-30 2207.5,-24 2207.5,-24 2207.5,-12 2207.5,-12 2207.5,-6 2213.5,0 2219.5,0 2219.5,0 2249.5,0 2249.5,0 2255.5,0 2261.5,-6 2261.5,-12 2261.5,-12 2261.5,-24 2261.5,-24 2261.5,-30 2255.5,-36 2249.5,-36\"/>\n<text text-anchor=\"middle\" x=\"2234.5\" y=\"-14.3\" font-family=\"Helvetica,sans-Serif\" font-size=\"14.00\" fill=\"#000000\">(...)</text>\n</g>\n<!-- 7247&#45;&gt;7297 -->\n<g id=\"edge21\" class=\"edge\">\n<title>7247&#45;&gt;7297</title>\n<path fill=\"none\" stroke=\"#000000\" d=\"M2215.6565,-71.9133C2218.7635,-63.0239 2221.904,-54.0385 2224.7068,-46.0195\"/>\n<polygon fill=\"#000000\" stroke=\"#000000\" points=\"2228.0529,-47.0538 2228.0483,-36.4589 2221.4448,-44.7441 2228.0529,-47.0538\"/>\n</g>\n<!-- 7299 -->\n<g id=\"node24\" class=\"node\">\n<title>7299</title>\n<path fill=\"#fbfefd\" stroke=\"#000000\" d=\"M2776,-170C2776,-170 2423,-170 2423,-170 2417,-170 2411,-164 2411,-158 2411,-158 2411,-84 2411,-84 2411,-78 2417,-72 2423,-72 2423,-72 2776,-72 2776,-72 2782,-72 2788,-78 2788,-84 2788,-84 2788,-158 2788,-158 2788,-164 2782,-170 2776,-170\"/>\n<text text-anchor=\"middle\" x=\"2599.5\" y=\"-154.8\" font-family=\"Helvetica,sans-Serif\" font-size=\"14.00\" fill=\"#000000\">Genres_Communication &lt;= 0.5</text>\n<text text-anchor=\"middle\" x=\"2599.5\" y=\"-139.8\" font-family=\"Helvetica,sans-Serif\" font-size=\"14.00\" fill=\"#000000\">samples = 6.4%</text>\n<text text-anchor=\"middle\" x=\"2599.5\" y=\"-124.8\" font-family=\"Helvetica,sans-Serif\" font-size=\"14.00\" fill=\"#000000\">value = [0.0, 0.0, 0.002, 0.007, 0.035, 0.082, 0.21, 0.227</text>\n<text text-anchor=\"middle\" x=\"2599.5\" y=\"-109.8\" font-family=\"Helvetica,sans-Serif\" font-size=\"14.00\" fill=\"#000000\">0.04, 0.031, 0.0, 0.0, 0.002, 0.007, 0.026, 0.055</text>\n<text text-anchor=\"middle\" x=\"2599.5\" y=\"-94.8\" font-family=\"Helvetica,sans-Serif\" font-size=\"14.00\" fill=\"#000000\">0.177, 0.075, 0.024]</text>\n<text text-anchor=\"middle\" x=\"2599.5\" y=\"-79.8\" font-family=\"Helvetica,sans-Serif\" font-size=\"14.00\" fill=\"#000000\">class = 10000000</text>\n</g>\n<!-- 7298&#45;&gt;7299 -->\n<g id=\"edge23\" class=\"edge\">\n<title>7298&#45;&gt;7299</title>\n<path fill=\"none\" stroke=\"#000000\" d=\"M2599.5,-205.8642C2599.5,-197.5802 2599.5,-188.903 2599.5,-180.3918\"/>\n<polygon fill=\"#000000\" stroke=\"#000000\" points=\"2603.0001,-180.1298 2599.5,-170.1298 2596.0001,-180.1299 2603.0001,-180.1298\"/>\n</g>\n<!-- 7812 -->\n<g id=\"node27\" class=\"node\">\n<title>7812</title>\n<path fill=\"#e4fbf2\" stroke=\"#000000\" d=\"M3187,-170C3187,-170 2818,-170 2818,-170 2812,-170 2806,-164 2806,-158 2806,-158 2806,-84 2806,-84 2806,-78 2812,-72 2818,-72 2818,-72 3187,-72 3187,-72 3193,-72 3199,-78 3199,-84 3199,-84 3199,-158 3199,-158 3199,-164 3193,-170 3187,-170\"/>\n<text text-anchor=\"middle\" x=\"3002.5\" y=\"-154.8\" font-family=\"Helvetica,sans-Serif\" font-size=\"14.00\" fill=\"#000000\">Genres_Communication &lt;= 0.5</text>\n<text text-anchor=\"middle\" x=\"3002.5\" y=\"-139.8\" font-family=\"Helvetica,sans-Serif\" font-size=\"14.00\" fill=\"#000000\">samples = 10.3%</text>\n<text text-anchor=\"middle\" x=\"3002.5\" y=\"-124.8\" font-family=\"Helvetica,sans-Serif\" font-size=\"14.00\" fill=\"#000000\">value = [0.0, 0.001, 0.003, 0.012, 0.01, 0.043, 0.147, 0.296</text>\n<text text-anchor=\"middle\" x=\"3002.5\" y=\"-109.8\" font-family=\"Helvetica,sans-Serif\" font-size=\"14.00\" fill=\"#000000\">0.183, 0.037, 0.0, 0.0, 0.001, 0.003, 0.004, 0.021</text>\n<text text-anchor=\"middle\" x=\"3002.5\" y=\"-94.8\" font-family=\"Helvetica,sans-Serif\" font-size=\"14.00\" fill=\"#000000\">0.112, 0.1, 0.028]</text>\n<text text-anchor=\"middle\" x=\"3002.5\" y=\"-79.8\" font-family=\"Helvetica,sans-Serif\" font-size=\"14.00\" fill=\"#000000\">class = 10000000</text>\n</g>\n<!-- 7298&#45;&gt;7812 -->\n<g id=\"edge26\" class=\"edge\">\n<title>7298&#45;&gt;7812</title>\n<path fill=\"none\" stroke=\"#000000\" d=\"M2746.9884,-205.9592C2779.0009,-195.3148 2812.9772,-184.0175 2845.347,-173.2543\"/>\n<polygon fill=\"#000000\" stroke=\"#000000\" points=\"2846.4977,-176.5602 2854.8825,-170.0837 2844.289,-169.9178 2846.4977,-176.5602\"/>\n</g>\n<!-- 7300 -->\n<g id=\"node25\" class=\"node\">\n<title>7300</title>\n<path fill=\"#c0c0c0\" stroke=\"#000000\" d=\"M2578.5,-36C2578.5,-36 2548.5,-36 2548.5,-36 2542.5,-36 2536.5,-30 2536.5,-24 2536.5,-24 2536.5,-12 2536.5,-12 2536.5,-6 2542.5,0 2548.5,0 2548.5,0 2578.5,0 2578.5,0 2584.5,0 2590.5,-6 2590.5,-12 2590.5,-12 2590.5,-24 2590.5,-24 2590.5,-30 2584.5,-36 2578.5,-36\"/>\n<text text-anchor=\"middle\" x=\"2563.5\" y=\"-14.3\" font-family=\"Helvetica,sans-Serif\" font-size=\"14.00\" fill=\"#000000\">(...)</text>\n</g>\n<!-- 7299&#45;&gt;7300 -->\n<g id=\"edge24\" class=\"edge\">\n<title>7299&#45;&gt;7300</title>\n<path fill=\"none\" stroke=\"#000000\" d=\"M2582.3435,-71.9133C2579.2365,-63.0239 2576.096,-54.0385 2573.2932,-46.0195\"/>\n<polygon fill=\"#000000\" stroke=\"#000000\" points=\"2576.5552,-44.7441 2569.9517,-36.4589 2569.9471,-47.0538 2576.5552,-44.7441\"/>\n</g>\n<!-- 7781 -->\n<g id=\"node26\" class=\"node\">\n<title>7781</title>\n<path fill=\"#c0c0c0\" stroke=\"#000000\" d=\"M2650.5,-36C2650.5,-36 2620.5,-36 2620.5,-36 2614.5,-36 2608.5,-30 2608.5,-24 2608.5,-24 2608.5,-12 2608.5,-12 2608.5,-6 2614.5,0 2620.5,0 2620.5,0 2650.5,0 2650.5,0 2656.5,0 2662.5,-6 2662.5,-12 2662.5,-12 2662.5,-24 2662.5,-24 2662.5,-30 2656.5,-36 2650.5,-36\"/>\n<text text-anchor=\"middle\" x=\"2635.5\" y=\"-14.3\" font-family=\"Helvetica,sans-Serif\" font-size=\"14.00\" fill=\"#000000\">(...)</text>\n</g>\n<!-- 7299&#45;&gt;7781 -->\n<g id=\"edge25\" class=\"edge\">\n<title>7299&#45;&gt;7781</title>\n<path fill=\"none\" stroke=\"#000000\" d=\"M2616.6565,-71.9133C2619.7635,-63.0239 2622.904,-54.0385 2625.7068,-46.0195\"/>\n<polygon fill=\"#000000\" stroke=\"#000000\" points=\"2629.0529,-47.0538 2629.0483,-36.4589 2622.4448,-44.7441 2629.0529,-47.0538\"/>\n</g>\n<!-- 7813 -->\n<g id=\"node28\" class=\"node\">\n<title>7813</title>\n<path fill=\"#c0c0c0\" stroke=\"#000000\" d=\"M2981.5,-36C2981.5,-36 2951.5,-36 2951.5,-36 2945.5,-36 2939.5,-30 2939.5,-24 2939.5,-24 2939.5,-12 2939.5,-12 2939.5,-6 2945.5,0 2951.5,0 2951.5,0 2981.5,0 2981.5,0 2987.5,0 2993.5,-6 2993.5,-12 2993.5,-12 2993.5,-24 2993.5,-24 2993.5,-30 2987.5,-36 2981.5,-36\"/>\n<text text-anchor=\"middle\" x=\"2966.5\" y=\"-14.3\" font-family=\"Helvetica,sans-Serif\" font-size=\"14.00\" fill=\"#000000\">(...)</text>\n</g>\n<!-- 7812&#45;&gt;7813 -->\n<g id=\"edge27\" class=\"edge\">\n<title>7812&#45;&gt;7813</title>\n<path fill=\"none\" stroke=\"#000000\" d=\"M2985.3435,-71.9133C2982.2365,-63.0239 2979.096,-54.0385 2976.2932,-46.0195\"/>\n<polygon fill=\"#000000\" stroke=\"#000000\" points=\"2979.5552,-44.7441 2972.9517,-36.4589 2972.9471,-47.0538 2979.5552,-44.7441\"/>\n</g>\n<!-- 8594 -->\n<g id=\"node29\" class=\"node\">\n<title>8594</title>\n<path fill=\"#c0c0c0\" stroke=\"#000000\" d=\"M3053.5,-36C3053.5,-36 3023.5,-36 3023.5,-36 3017.5,-36 3011.5,-30 3011.5,-24 3011.5,-24 3011.5,-12 3011.5,-12 3011.5,-6 3017.5,0 3023.5,0 3023.5,0 3053.5,0 3053.5,0 3059.5,0 3065.5,-6 3065.5,-12 3065.5,-12 3065.5,-24 3065.5,-24 3065.5,-30 3059.5,-36 3053.5,-36\"/>\n<text text-anchor=\"middle\" x=\"3038.5\" y=\"-14.3\" font-family=\"Helvetica,sans-Serif\" font-size=\"14.00\" fill=\"#000000\">(...)</text>\n</g>\n<!-- 7812&#45;&gt;8594 -->\n<g id=\"edge28\" class=\"edge\">\n<title>7812&#45;&gt;8594</title>\n<path fill=\"none\" stroke=\"#000000\" d=\"M3019.6565,-71.9133C3022.7635,-63.0239 3025.904,-54.0385 3028.7068,-46.0195\"/>\n<polygon fill=\"#000000\" stroke=\"#000000\" points=\"3032.0529,-47.0538 3032.0483,-36.4589 3025.4448,-44.7441 3032.0529,-47.0538\"/>\n</g>\n</g>\n</svg>\n"
          },
          "metadata": {
            "tags": []
          }
        }
      ]
    },
    {
      "cell_type": "code",
      "metadata": {
        "id": "bWHxuCHFdF_d",
        "colab_type": "code",
        "colab": {
          "base_uri": "https://localhost:8080/",
          "height": 34
        },
        "outputId": "a80c0365-780b-4447-e582-3be4c47c4773"
      },
      "source": [
        "\n",
        "import category_encoders as ce\n",
        "from sklearn.ensemble import RandomForestClassifier\n",
        "from sklearn.impute import SimpleImputer\n",
        "from sklearn.pipeline import make_pipeline\n",
        "\n",
        "\n",
        "pipeline = make_pipeline(\n",
        "    ce.OneHotEncoder(use_cat_names=True), \n",
        "    SimpleImputer(strategy='most_frequent'), \n",
        "    RandomForestClassifier(n_jobs=-1, random_state=42, n_estimators=100,\n",
        "                           max_depth=None, min_samples_leaf=1)\n",
        ")\n",
        "\n",
        "# Fit on train, score on val\n",
        "pipeline.fit(X_train_encoded, y_train)\n",
        "print('Train Accuracy', pipeline.score(X_train_encoded, y_train))\n",
        "\n"
      ],
      "execution_count": 36,
      "outputs": [
        {
          "output_type": "stream",
          "text": [
            "Train Accuracy 0.9998576309794989\n"
          ],
          "name": "stdout"
        }
      ]
    },
    {
      "cell_type": "code",
      "metadata": {
        "id": "JMhUohX_yLRl",
        "colab_type": "code",
        "colab": {
          "base_uri": "https://localhost:8080/",
          "height": 34
        },
        "outputId": "3b143bc0-8b51-4cf6-a829-667054eb6720"
      },
      "source": [
        "y_pred = model.predict(X_val_encoded)\n",
        "print('Validy_pipelination Accuracy', accuracy_score(y_val, y_pred))"
      ],
      "execution_count": 37,
      "outputs": [
        {
          "output_type": "stream",
          "text": [
            "Validy_pipelination Accuracy 0.33219470538001705\n"
          ],
          "name": "stdout"
        }
      ]
    },
    {
      "cell_type": "code",
      "metadata": {
        "id": "HeZdMkgOIP-N",
        "colab_type": "code",
        "colab": {
          "base_uri": "https://localhost:8080/",
          "height": 34
        },
        "outputId": "18e9b404-dcec-4fe4-9e20-8bddd9a615e4"
      },
      "source": [
        "y_pred = model.predict(X_test_encoded)\n",
        "accuracy_score(y_test, y_pred)"
      ],
      "execution_count": 38,
      "outputs": [
        {
          "output_type": "execute_result",
          "data": {
            "text/plain": [
              "0.8329062566730728"
            ]
          },
          "metadata": {
            "tags": []
          },
          "execution_count": 38
        }
      ]
    },
    {
      "cell_type": "code",
      "metadata": {
        "id": "G81293AMThmi",
        "colab_type": "code",
        "colab": {
          "base_uri": "https://localhost:8080/",
          "height": 204
        },
        "outputId": "c2f38262-ba71-4e74-b115-f296bc99c31f"
      },
      "source": [
        "#Binarized the Install columns\n",
        "test['Installs'] = pd.get_dummies(test['Installs'])\n",
        "\n",
        "\n",
        "test.head()"
      ],
      "execution_count": 43,
      "outputs": [
        {
          "output_type": "execute_result",
          "data": {
            "text/html": [
              "<div>\n",
              "<style scoped>\n",
              "    .dataframe tbody tr th:only-of-type {\n",
              "        vertical-align: middle;\n",
              "    }\n",
              "\n",
              "    .dataframe tbody tr th {\n",
              "        vertical-align: top;\n",
              "    }\n",
              "\n",
              "    .dataframe thead th {\n",
              "        text-align: right;\n",
              "    }\n",
              "</style>\n",
              "<table border=\"1\" class=\"dataframe\">\n",
              "  <thead>\n",
              "    <tr style=\"text-align: right;\">\n",
              "      <th></th>\n",
              "      <th>Rating</th>\n",
              "      <th>Reviews</th>\n",
              "      <th>Size</th>\n",
              "      <th>Installs</th>\n",
              "      <th>Type</th>\n",
              "      <th>Price</th>\n",
              "      <th>Content Rating</th>\n",
              "      <th>Genres</th>\n",
              "    </tr>\n",
              "  </thead>\n",
              "  <tbody>\n",
              "    <tr>\n",
              "      <th>0</th>\n",
              "      <td>4.2</td>\n",
              "      <td>1499373</td>\n",
              "      <td>33</td>\n",
              "      <td>1</td>\n",
              "      <td>Free</td>\n",
              "      <td>0</td>\n",
              "      <td>Everyone</td>\n",
              "      <td>Action</td>\n",
              "    </tr>\n",
              "    <tr>\n",
              "      <th>1</th>\n",
              "      <td>4.2</td>\n",
              "      <td>2447</td>\n",
              "      <td>2.5</td>\n",
              "      <td>1</td>\n",
              "      <td>Free</td>\n",
              "      <td>0</td>\n",
              "      <td>Everyone</td>\n",
              "      <td>Tools</td>\n",
              "    </tr>\n",
              "    <tr>\n",
              "      <th>2</th>\n",
              "      <td>4.3</td>\n",
              "      <td>122010</td>\n",
              "      <td>7.3</td>\n",
              "      <td>1</td>\n",
              "      <td>Free</td>\n",
              "      <td>0</td>\n",
              "      <td>Everyone</td>\n",
              "      <td>Tools</td>\n",
              "    </tr>\n",
              "    <tr>\n",
              "      <th>3</th>\n",
              "      <td>4.7</td>\n",
              "      <td>327</td>\n",
              "      <td>31</td>\n",
              "      <td>1</td>\n",
              "      <td>Free</td>\n",
              "      <td>0</td>\n",
              "      <td>Everyone</td>\n",
              "      <td>News &amp; Magazines</td>\n",
              "    </tr>\n",
              "    <tr>\n",
              "      <th>4</th>\n",
              "      <td>3.7</td>\n",
              "      <td>400</td>\n",
              "      <td>7.2</td>\n",
              "      <td>1</td>\n",
              "      <td>Free</td>\n",
              "      <td>0</td>\n",
              "      <td>Teen</td>\n",
              "      <td>Video Players &amp; Editors</td>\n",
              "    </tr>\n",
              "  </tbody>\n",
              "</table>\n",
              "</div>"
            ],
            "text/plain": [
              "   Rating  Reviews Size  ...  Price Content Rating                   Genres\n",
              "0     4.2  1499373   33  ...      0       Everyone                   Action\n",
              "1     4.2     2447  2.5  ...      0       Everyone                    Tools\n",
              "2     4.3   122010  7.3  ...      0       Everyone                    Tools\n",
              "3     4.7      327   31  ...      0       Everyone         News & Magazines\n",
              "4     3.7      400  7.2  ...      0           Teen  Video Players & Editors\n",
              "\n",
              "[5 rows x 8 columns]"
            ]
          },
          "metadata": {
            "tags": []
          },
          "execution_count": 43
        }
      ]
    },
    {
      "cell_type": "code",
      "metadata": {
        "id": "klStm2YQwEmj",
        "colab_type": "code",
        "colab": {}
      },
      "source": [
        "y_test = test['Installs']"
      ],
      "execution_count": 0,
      "outputs": []
    },
    {
      "cell_type": "code",
      "metadata": {
        "id": "XixzwM8vabnv",
        "colab_type": "code",
        "colab": {
          "base_uri": "https://localhost:8080/",
          "height": 359
        },
        "outputId": "47790051-c269-4add-e0eb-dda986b668dc"
      },
      "source": [
        "y_pred = pipeline.predict(X_test_encoded)\n",
        "final_test = X_test.copy()\n",
        "final_test['Popular']= y_test\n",
        "final_test[X_test['Rating'] >= 4.0].head(10)"
      ],
      "execution_count": 45,
      "outputs": [
        {
          "output_type": "execute_result",
          "data": {
            "text/html": [
              "<div>\n",
              "<style scoped>\n",
              "    .dataframe tbody tr th:only-of-type {\n",
              "        vertical-align: middle;\n",
              "    }\n",
              "\n",
              "    .dataframe tbody tr th {\n",
              "        vertical-align: top;\n",
              "    }\n",
              "\n",
              "    .dataframe thead th {\n",
              "        text-align: right;\n",
              "    }\n",
              "</style>\n",
              "<table border=\"1\" class=\"dataframe\">\n",
              "  <thead>\n",
              "    <tr style=\"text-align: right;\">\n",
              "      <th></th>\n",
              "      <th>Rating</th>\n",
              "      <th>Reviews</th>\n",
              "      <th>Size</th>\n",
              "      <th>Type</th>\n",
              "      <th>Price</th>\n",
              "      <th>Content Rating</th>\n",
              "      <th>Genres</th>\n",
              "      <th>Popular</th>\n",
              "    </tr>\n",
              "  </thead>\n",
              "  <tbody>\n",
              "    <tr>\n",
              "      <th>0</th>\n",
              "      <td>4.2</td>\n",
              "      <td>1499373</td>\n",
              "      <td>33</td>\n",
              "      <td>Free</td>\n",
              "      <td>0</td>\n",
              "      <td>Everyone</td>\n",
              "      <td>Action</td>\n",
              "      <td>1</td>\n",
              "    </tr>\n",
              "    <tr>\n",
              "      <th>1</th>\n",
              "      <td>4.2</td>\n",
              "      <td>2447</td>\n",
              "      <td>2.5</td>\n",
              "      <td>Free</td>\n",
              "      <td>0</td>\n",
              "      <td>Everyone</td>\n",
              "      <td>Tools</td>\n",
              "      <td>1</td>\n",
              "    </tr>\n",
              "    <tr>\n",
              "      <th>2</th>\n",
              "      <td>4.3</td>\n",
              "      <td>122010</td>\n",
              "      <td>7.3</td>\n",
              "      <td>Free</td>\n",
              "      <td>0</td>\n",
              "      <td>Everyone</td>\n",
              "      <td>Tools</td>\n",
              "      <td>1</td>\n",
              "    </tr>\n",
              "    <tr>\n",
              "      <th>3</th>\n",
              "      <td>4.7</td>\n",
              "      <td>327</td>\n",
              "      <td>31</td>\n",
              "      <td>Free</td>\n",
              "      <td>0</td>\n",
              "      <td>Everyone</td>\n",
              "      <td>News &amp; Magazines</td>\n",
              "      <td>1</td>\n",
              "    </tr>\n",
              "    <tr>\n",
              "      <th>5</th>\n",
              "      <td>5.0</td>\n",
              "      <td>7</td>\n",
              "      <td>20</td>\n",
              "      <td>Free</td>\n",
              "      <td>0</td>\n",
              "      <td>Everyone</td>\n",
              "      <td>Education</td>\n",
              "      <td>1</td>\n",
              "    </tr>\n",
              "    <tr>\n",
              "      <th>8</th>\n",
              "      <td>4.7</td>\n",
              "      <td>50424</td>\n",
              "      <td>82</td>\n",
              "      <td>Free</td>\n",
              "      <td>0</td>\n",
              "      <td>Everyone</td>\n",
              "      <td>Photography</td>\n",
              "      <td>1</td>\n",
              "    </tr>\n",
              "    <tr>\n",
              "      <th>9</th>\n",
              "      <td>4.4</td>\n",
              "      <td>24281</td>\n",
              "      <td>29</td>\n",
              "      <td>Free</td>\n",
              "      <td>0</td>\n",
              "      <td>Everyone</td>\n",
              "      <td>Travel</td>\n",
              "      <td>1</td>\n",
              "    </tr>\n",
              "    <tr>\n",
              "      <th>11</th>\n",
              "      <td>4.5</td>\n",
              "      <td>659</td>\n",
              "      <td>3.3</td>\n",
              "      <td>Paid</td>\n",
              "      <td>3.99</td>\n",
              "      <td>Everyone</td>\n",
              "      <td>Strategy</td>\n",
              "      <td>1</td>\n",
              "    </tr>\n",
              "    <tr>\n",
              "      <th>12</th>\n",
              "      <td>4.3</td>\n",
              "      <td>39109</td>\n",
              "      <td>4.0</td>\n",
              "      <td>Free</td>\n",
              "      <td>0</td>\n",
              "      <td>Everyone</td>\n",
              "      <td>Entertainment</td>\n",
              "      <td>1</td>\n",
              "    </tr>\n",
              "    <tr>\n",
              "      <th>14</th>\n",
              "      <td>4.1</td>\n",
              "      <td>25</td>\n",
              "      <td>47</td>\n",
              "      <td>Free</td>\n",
              "      <td>0</td>\n",
              "      <td>Everyone</td>\n",
              "      <td>Education</td>\n",
              "      <td>1</td>\n",
              "    </tr>\n",
              "  </tbody>\n",
              "</table>\n",
              "</div>"
            ],
            "text/plain": [
              "    Rating  Reviews Size  Type Price Content Rating            Genres  Popular\n",
              "0      4.2  1499373   33  Free     0       Everyone            Action        1\n",
              "1      4.2     2447  2.5  Free     0       Everyone             Tools        1\n",
              "2      4.3   122010  7.3  Free     0       Everyone             Tools        1\n",
              "3      4.7      327   31  Free     0       Everyone  News & Magazines        1\n",
              "5      5.0        7   20  Free     0       Everyone         Education        1\n",
              "8      4.7    50424   82  Free     0       Everyone       Photography        1\n",
              "9      4.4    24281   29  Free     0       Everyone            Travel        1\n",
              "11     4.5      659  3.3  Paid  3.99       Everyone          Strategy        1\n",
              "12     4.3    39109  4.0  Free     0       Everyone     Entertainment        1\n",
              "14     4.1       25   47  Free     0       Everyone         Education        1"
            ]
          },
          "metadata": {
            "tags": []
          },
          "execution_count": 45
        }
      ]
    },
    {
      "cell_type": "code",
      "metadata": {
        "id": "6PNL-NdJujAF",
        "colab_type": "code",
        "colab": {
          "base_uri": "https://localhost:8080/",
          "height": 448
        },
        "outputId": "ad630f9d-9eba-4ded-afcf-2cbfe5d7661b"
      },
      "source": [
        "from seaborn import jointplot\n",
        "\n",
        "\n",
        "new_df = df.copy()\n",
        "new_df[\"target\"] = y_pred\n",
        "p = jointplot(\n",
        "    \"Installs\", \"Reviews\", data=new_df, kind=\"reg\"\n",
        ")\n"
      ],
      "execution_count": 52,
      "outputs": [
        {
          "output_type": "display_data",
          "data": {
            "image/png": "[encoded data removed]",
            "text/plain": [
              "<Figure size 432x432 with 3 Axes>"
            ]
          },
          "metadata": {
            "tags": []
          }
        }
      ]
    },
    {
      "cell_type": "code",
      "metadata": {
        "id": "pFg-EZCVTPSD",
        "colab_type": "code",
        "colab": {}
      },
      "source": [
        ""
      ],
      "execution_count": 0,
      "outputs": []
    }
  ]
}